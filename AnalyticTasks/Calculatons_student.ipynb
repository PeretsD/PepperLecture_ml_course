{
 "cells": [
  {
   "cell_type": "markdown",
   "id": "9044eaf4",
   "metadata": {},
   "source": [
    "> # Задание 1\n",
    ">\n",
    "> Как при помощи генерации случайных числе посчитать число $\\pi$?\n",
    "\n",
    "---"
   ]
  },
  {
   "cell_type": "markdown",
   "id": "0d50a71f",
   "metadata": {},
   "source": [
    "А надо ли вообще визуально оценивать данные, с которыми работаем?\n",
    "\n",
    "> # Задание 2\n",
    ">\n",
    "> Считать файл datasets.csv. Посчитать среднее и дисперсию. Одинаковые ли это наборы данных?"
   ]
  }
 ],
 "metadata": {
  "kernelspec": {
   "display_name": "Python 3 (ipykernel)",
   "language": "python",
   "name": "python3"
  },
  "language_info": {
   "codemirror_mode": {
    "name": "ipython",
    "version": 3
   },
   "file_extension": ".py",
   "mimetype": "text/x-python",
   "name": "python",
   "nbconvert_exporter": "python",
   "pygments_lexer": "ipython3",
   "version": "3.9.12"
  }
 },
 "nbformat": 4,
 "nbformat_minor": 5
}
