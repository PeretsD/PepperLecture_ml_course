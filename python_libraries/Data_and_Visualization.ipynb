{
 "cells": [
  {
   "cell_type": "markdown",
   "metadata": {},
   "source": [
    "# Библиотеки NumPy, Matpotlib, pandas"
   ]
  },
  {
   "cell_type": "markdown",
   "metadata": {},
   "source": [
    "В этой лекции мы вкратце познакомимся сосновными библиотеками для решения научных задач. Они не являются частью стандартной библиотеки, и в общем случае должны устанавливаться вручную. Однако поскольку мы использовали дистрибутив Anaconda для установки Python, нам не потребуется ничего делать дополнительно, так как он включает в себя все нужное."
   ]
  },
  {
   "cell_type": "markdown",
   "metadata": {},
   "source": [
    "## NumPy"
   ]
  },
  {
   "cell_type": "markdown",
   "metadata": {},
   "source": [
    "Библиотека [NumPy](https://docs.scipy.org/doc/numpy/reference/) предоставляет типы и функции для вычислений с многомерными **массивами**. Массивом (англ. *array*) в программировании называется контейнер, хранящий последовательно друг за другом множество элементов. Из тех контейнеров, с которыми мы познакомились с вами в одной из предыдущих лекций, он больше всего похож на [список](09_Collections.ipynb#Список). Основное же отличие заключается в том, что массив может хранить только значения фиксированного типа - того, который был указан при его создании. Благодаря этому ограничению можно эффективнее организовать хранение в памяти элементов массива, и добиться хорошей производительности операций, выполняющихся над всеми элементами."
   ]
  },
  {
   "cell_type": "markdown",
   "metadata": {},
   "source": [
    "Элементами многомерного массива являются другие массивы. Классический пример - матрица, представляющая собой массив строк, каждая из которых является массивом чисел."
   ]
  },
  {
   "cell_type": "markdown",
   "metadata": {},
   "source": [
    "Основным типом данных, предоставляемым библиотекой NumPy, является класс `ndarray`, который описывает многомерный массив. Перечислим наиболее важные атрибуты экземпляров этого класса:"
   ]
  },
  {
   "cell_type": "markdown",
   "metadata": {},
   "source": [
    "1. `ndim` - количество измерений или, как их принято называть, осей. Например, обычная матрица имеет две оси (строки и столбцы). Оси идентифицируются своим порядковым номером, причем как и для индексов последовательностей, нумерация начинается с нуля (у матрицы строки - это нулевая ось, а столбцы - первая).\n",
    "2. `shape` - форма массива. Это кортеж, который для каждой оси содержит число элементов в ней. Например, если у нас есть матрица размерности $N \\times M$, то `shape` будет равно `(N, M)`.\n",
    "3. `size` - общее количество элементов в многомерном массиве. По сути, представляет собой произведение всех элементов `shape`.\n",
    "4. `dtype` - объект, содержащий информацию о типе данных элементов массива."
   ]
  },
  {
   "cell_type": "markdown",
   "metadata": {},
   "source": [
    "В дальнейших примерах нам часто будет требоваться выводить информацию о массиве на экран, поэтому мы определим простую функцию для этого:"
   ]
  },
  {
   "cell_type": "code",
   "execution_count": null,
   "metadata": {},
   "outputs": [],
   "source": [
    "import numpy as np\n",
    "\n",
    "# Создадим функцию, расширяющую базовый функционал print'a, чтобы обогатить вывод информации\n",
    "def print_array(a):\n",
    "    print('ndim={}, shape={}, size={}, dtype={}'.format(a.ndim, a.shape, a.size, a.dtype))\n",
    "    print(a)"
   ]
  },
  {
   "cell_type": "markdown",
   "metadata": {},
   "source": [
    "### Создание массива"
   ]
  },
  {
   "cell_type": "markdown",
   "metadata": {},
   "source": [
    "На первой части курса уже говорили про различные списки. Массивы `numpy` являются своеобразной доработкой базовых списков. \n",
    "\n",
    "Существует несколько способов создать массив `numpy`. Один из них - использовать функцию `array`."
   ]
  },
  {
   "cell_type": "code",
   "execution_count": null,
   "metadata": {},
   "outputs": [],
   "source": [
    "# создаем одномерный массив\n",
    "a = [1,2,3]\n",
    "# передаем его как аргумент в функцию np.array()\n",
    "b = np.array(a)\n",
    "print_array(b)"
   ]
  },
  {
   "cell_type": "code",
   "execution_count": null,
   "metadata": {},
   "outputs": [],
   "source": [
    "# создаем двумерный массив (матрицу)\n",
    "# исходный массив можно не записывать в отдельную переменную, а передавать сразу как аргумент\n",
    "a = np.array([[0.1, 0.2, 0.3, 0.4],\n",
    "              [0.5, 0.6, 0.7, 0.8]])\n",
    "print_array(a)"
   ]
  },
  {
   "cell_type": "markdown",
   "metadata": {},
   "source": [
    "Если при создании массива не указывается тип его элементов, то функция `array` в качестве него выбирает такой, чтобы можно было хранить любой элемент из перечисленных в ее вызове:"
   ]
  },
  {
   "cell_type": "code",
   "execution_count": null,
   "metadata": {},
   "outputs": [],
   "source": [
    "a = np.array([1, 2, 3])\n",
    "print_array(a)"
   ]
  },
  {
   "cell_type": "code",
   "execution_count": null,
   "metadata": {},
   "outputs": [],
   "source": [
    "a = np.array([1, 2, 3.1])\n",
    "print_array(a)"
   ]
  },
  {
   "cell_type": "code",
   "execution_count": null,
   "metadata": {},
   "outputs": [],
   "source": [
    "# явно указываем тип элементов\n",
    "a = np.array([1, 2, 3], dtype=complex)\n",
    "print_array(a)"
   ]
  },
  {
   "cell_type": "markdown",
   "metadata": {},
   "source": [
    "Библиотека NumPy для элементов массива использует собственные типы данных, которые можно использовать так же, как соответствующие встроенные. Особенность типов данных из NumPy в том, что для них четко определено количество бит, которое они занимают в памяти. Можно при создании массива указать и тип данных из библиотеки NumPy:"
   ]
  },
  {
   "cell_type": "code",
   "execution_count": null,
   "metadata": {},
   "outputs": [],
   "source": [
    "# используем 16 битовые целые числа для хранения элементов\n",
    "a = np.array([1, 2, 3], dtype=np.int16)\n",
    "print_array(a)"
   ]
  },
  {
   "cell_type": "markdown",
   "metadata": {},
   "source": [
    "Важно при этом понимать, какой диапазон значений можно хранить в том или ином типе (например, для int16 это $[-32768, 32767]$), потому что если впоследствии ваша программа присвоит элементу массива значение вне этого диапазона, оно будет сохранено неправильно!"
   ]
  },
  {
   "cell_type": "markdown",
   "metadata": {},
   "source": [
    "Часто бывает так, что при создании массива известная его форма, но не значения элементов. В этом случае можно воспользоваться функциями `zeros`, `ones` или `empty`, которые заполняют созданный массив нулями, единицами или случайными значениями. В качестве первого аргумента все эти функции принимают кортеж, описывающий форму массива:"
   ]
  },
  {
   "cell_type": "code",
   "execution_count": null,
   "metadata": {},
   "outputs": [],
   "source": [
    "# создаем массив с 3мя осями;\n",
    "# он представляет собой массив из двух массивов, каждый из\n",
    "# которых содержит 3 массива, каждый из которых содержит 4 элемента\n",
    "a = np.zeros((2, 3, 4))\n",
    "print_array(a)"
   ]
  },
  {
   "cell_type": "markdown",
   "metadata": {},
   "source": [
    "Обратите внимание, что по умолчанию для элементов массива используется тип `float64`. С помощью именованного параметра `dtype` функции `zeros` и других можно указать желаемый тип элементов."
   ]
  },
  {
   "cell_type": "markdown",
   "metadata": {},
   "source": [
    "Наконец, библиотека NumPy предоставляет функцию `arange` для генерации числовой последовательности, аналогичную встроенной функции `range`. Отличие заключается в том, что с помощью `arange` можно генерировать и последовательности чисел с плавающей точкой."
   ]
  },
  {
   "cell_type": "code",
   "execution_count": null,
   "metadata": {},
   "outputs": [],
   "source": [
    "# целые из интервала [0, 10) с шагом 1\n",
    "a = np.arange(10)\n",
    "print_array(a)"
   ]
  },
  {
   "cell_type": "code",
   "execution_count": null,
   "metadata": {},
   "outputs": [],
   "source": [
    "# действительные из интервала [0.0, 1.0) c шагом 0.1\n",
    "a = np.arange(0, 1, 0.1)\n",
    "print_array(a)"
   ]
  },
  {
   "cell_type": "markdown",
   "metadata": {},
   "source": [
    "Заметим, что использовать функцию `arange` для получения действительных чисел, стоит осторожно, потому что размер полученного массива может отличаться от ожидаемого (это связано с неточным представлением [чисел с плавающей точкой](04_Data_Types.ipynb#Типы-с-плавающей-точкой)). Более безопасной с этой точки зрения является функция `linspace`, которая возвращает указанное количество равноудаленных друг от друга чисел из интервала:"
   ]
  },
  {
   "cell_type": "code",
   "execution_count": null,
   "metadata": {},
   "outputs": [],
   "source": [
    "# 10 равноудаленных друг от друга чисел из интервала [0, 0.9]\n",
    "a = np.linspace(0, 0.9, 10)\n",
    "print_array(a)"
   ]
  },
  {
   "cell_type": "markdown",
   "metadata": {},
   "source": [
    "### Задание\n",
    "\n",
    "Создать массив содержащий n четных чисел начиная с 2."
   ]
  },
  {
   "cell_type": "code",
   "execution_count": 3,
   "metadata": {},
   "outputs": [
    {
     "name": "stdout",
     "output_type": "stream",
     "text": [
      "[  2   4   6   8  10  12  14  16  18  20  22  24  26  28  30  32  34  36\n",
      "  38  40  42  44  46  48  50  52  54  56  58  60  62  64  66  68  70  72\n",
      "  74  76  78  80  82  84  86  88  90  92  94  96  98 100]\n"
     ]
    }
   ],
   "source": [
    "import numpy as np\n",
    "n = 50\n",
    "arr = np.arange(1,n + 1) * 2\n",
    "print(arr)"
   ]
  },
  {
   "cell_type": "code",
   "execution_count": null,
   "metadata": {},
   "outputs": [],
   "source": []
  },
  {
   "cell_type": "code",
   "execution_count": null,
   "metadata": {},
   "outputs": [],
   "source": [
    "n = 50\n",
    "even_numbers = np.arange(1,n + 1) * 2 \n",
    "print_array(even_numbers)"
   ]
  },
  {
   "cell_type": "markdown",
   "metadata": {},
   "source": [
    "### Получение среза"
   ]
  },
  {
   "cell_type": "markdown",
   "metadata": {},
   "source": [
    "В случае одномерных массивов, получение срезов выполняется так же, как и для обычных последовательностей (списков, кортежей и т.д.). У многомерных массивов индексироваться может каждая ось. Если при этом отсутствует индекс для некоторой оси, то возвращаются все ее элементы. Срез объекта типа `ndarray` также имеет тип `ndarray`."
   ]
  },
  {
   "cell_type": "code",
   "execution_count": null,
   "metadata": {},
   "outputs": [],
   "source": [
    "a_multi = np.array([[0, 1, 2],\n",
    "                    [3, 4, 5],\n",
    "                    [6, 7, 8],\n",
    "                    [9, 10, 11]])\n",
    "\n",
    "# выводи третий элемент второй строки (помните, что нумерация\n",
    "# индексов начинается с нуля!)\n",
    "print(a_multi[1, 2]) "
   ]
  },
  {
   "cell_type": "code",
   "execution_count": null,
   "metadata": {},
   "outputs": [],
   "source": [
    "# получаем срез, состоящий из второй и третьей строки\n",
    "result = a_multi[1:3]\n",
    "print(type(result))\n",
    "print(result)"
   ]
  },
  {
   "cell_type": "code",
   "execution_count": null,
   "metadata": {},
   "outputs": [],
   "source": [
    "# получаем срез, состоящий из первого и третьего элемента\n",
    "# второй и четвертой строки, взятых в обратном порядке\n",
    "print(a_multi[3:0:-2, 0:3:2])"
   ]
  },
  {
   "cell_type": "markdown",
   "metadata": {},
   "source": [
    "Тип `ndarray` является итерируемым, поэтому его можно использовать в цикле `for ... in`. Итерация при этом происходит по первой оси (например, в случае матриц - по строкам):"
   ]
  },
  {
   "cell_type": "code",
   "execution_count": null,
   "metadata": {},
   "outputs": [],
   "source": [
    "for row in a_multi:\n",
    "    print(row)"
   ]
  },
  {
   "cell_type": "markdown",
   "metadata": {},
   "source": [
    "Для итерации по элементам нужно использовать атрибут `flat`:"
   ]
  },
  {
   "cell_type": "code",
   "execution_count": null,
   "metadata": {},
   "outputs": [],
   "source": [
    "for item in a_multi.flat:\n",
    "    print(item)"
   ]
  },
  {
   "cell_type": "markdown",
   "metadata": {},
   "source": [
    "Обратите внимание, что при итерации по элементам вначале изменяется последняя ось, потом предпоследняя и т.д. Например, для трехмерного массива $N_1 \\times N_2 \\times N_3$ элементы извлекались бы в такой последовательности:"
   ]
  },
  {
   "cell_type": "markdown",
   "metadata": {},
   "source": [
    "<pre>\n",
    "a[0][0][0], ..., a[0][0][N3], a[0][1][0], ..., a[0][N2][N3], a[1][0][0], ..., a[N1][N2][N3]\n",
    "</pre>"
   ]
  },
  {
   "cell_type": "markdown",
   "metadata": {},
   "source": [
    "Поскольку `ndarray` относится к изменяемым типам данных, его элементы можно модифицировать:"
   ]
  },
  {
   "cell_type": "code",
   "execution_count": null,
   "metadata": {},
   "outputs": [],
   "source": [
    "a_multi[0, 0] = 100              # присваиваем первому элементу 100\n",
    "a_multi[1] = 0                 # присваиваем всем элементам второй строки 0\n",
    "a_multi[2] = np.arange(20, 23) # заменяем третью строку на строку [20, 21, 22]\n",
    "\n",
    "print(a_multi)"
   ]
  },
  {
   "cell_type": "markdown",
   "metadata": {},
   "source": [
    "### Задания"
   ]
  },
  {
   "cell_type": "markdown",
   "metadata": {},
   "source": [
    "1) Задан двумерный массив, требуется развернуть j столбец в обратном порядке."
   ]
  },
  {
   "cell_type": "code",
   "execution_count": null,
   "metadata": {},
   "outputs": [],
   "source": [
    "array = np.array(\n",
    "      [[ 0,  1,  2,  3,  4,  5,  6,  7,  8,  9],\n",
    "       [10, 11, 12, 13, 14, 15, 16, 17, 18, 19],\n",
    "       [20, 21, 22, 23, 24, 25, 26, 27, 28, 29],\n",
    "       [30, 31, 32, 33, 34, 35, 36, 37, 38, 39],\n",
    "       [40, 41, 42, 43, 44, 45, 46, 47, 48, 49],\n",
    "       [50, 51, 52, 53, 54, 55, 56, 57, 58, 59],\n",
    "       [60, 61, 62, 63, 64, 65, 66, 67, 68, 69],\n",
    "       [70, 71, 72, 73, 74, 75, 76, 77, 78, 79],\n",
    "       [80, 81, 82, 83, 84, 85, 86, 87, 88, 89],\n",
    "       [90, 91, 92, 93, 94, 95, 96, 97, 98, 99]])\n",
    "j = 2\n",
    "\n",
    "\n",
    "array[:,j] = array[:,j][::-1]\n",
    "\n",
    "print_array(array)"
   ]
  },
  {
   "cell_type": "markdown",
   "metadata": {},
   "source": [
    "### Изменение формы"
   ]
  },
  {
   "cell_type": "markdown",
   "metadata": {},
   "source": [
    "Класс `ndarray` предоставляет несколько методов и атрибутов, которые изменяют форму массива (количество и размер осей):"
   ]
  },
  {
   "cell_type": "markdown",
   "metadata": {},
   "source": [
    "| <div align=\"left\">Название</div> | Описание |\n",
    "|----------------------------------|----------|\n",
    "| <div align=\"left\"><samp>reshape(shape, ...)</samp></div>                                                                      | Возвращает новый массив с теми же данными, но с формой <samp>shape</samp>                                                    |\n",
    "| <div align=\"left\"><samp>resize(shape, ...)</samp></div>                                                                       | Изменяет форму текущего массива на <samp>shape</samp>                                                                        |\n",
    "| <div align=\"left\"><samp>ravel(...)</samp></div>                                                                               | Возвращает \"плоскую\" версию массива с одним измерением                                                                       |"
   ]
  },
  {
   "cell_type": "markdown",
   "metadata": {},
   "source": [
    "При заполнении нового массива, его первому элементу присваивается первый элемент старого, второму - второй и т.д. Причем порядок элементов соответствует тому, в котором они возвращались бы при итерации по всем элементам (по атрибуту `flat`)."
   ]
  },
  {
   "cell_type": "markdown",
   "metadata": {},
   "source": [
    "Еще класс `ndarray` предоставляет метод `transpose` и атрибут `T`, которые позволяют получить транспонированную версию многомерного массива."
   ]
  },
  {
   "cell_type": "code",
   "execution_count": null,
   "metadata": {},
   "outputs": [],
   "source": [
    "a1 = np.arange(10)\n",
    "a2 = a1.reshape((2, 5))\n",
    "a3 = a2.T # a3 = np.transpose(a2)\n",
    "a4 = a3.ravel()"
   ]
  },
  {
   "cell_type": "code",
   "execution_count": null,
   "metadata": {},
   "outputs": [],
   "source": [
    "print_array(a1)"
   ]
  },
  {
   "cell_type": "code",
   "execution_count": null,
   "metadata": {},
   "outputs": [],
   "source": [
    "print_array(a2)"
   ]
  },
  {
   "cell_type": "code",
   "execution_count": null,
   "metadata": {},
   "outputs": [],
   "source": [
    "print_array(a3)"
   ]
  },
  {
   "cell_type": "code",
   "execution_count": null,
   "metadata": {},
   "outputs": [],
   "source": [
    "print_array(a4)"
   ]
  },
  {
   "cell_type": "markdown",
   "metadata": {},
   "source": [
    "Для объединения нескольких многомерных массивов в один класс `ndarray` предоставляет следующие функции:"
   ]
  },
  {
   "cell_type": "markdown",
   "metadata": {},
   "source": [
    "| <div align=\"left\">Название</div> | Описание |\n",
    "|----------------------------------|----------|\n",
    "| <div align=\"left\"><samp>hstack(arrays_seq)</samp></div>                                                                       | Возвращает новый массив, каждая строка которого является конкатенацией строк массивов из последовательности <samp>arrays_seq</samp>                                                                                                        |\n",
    "| <div align=\"left\"><samp>vstack(arrays_seq)</samp></div>                                                                       | Возвращает новый массив, каждый столбец которого является конкатенацией столбцов массивов из последовательности <samp>arrays_seq</samp>                                                                                                        |"
   ]
  },
  {
   "cell_type": "code",
   "execution_count": null,
   "metadata": {},
   "outputs": [],
   "source": [
    "a1 = np.array([[1, 2, 3],\n",
    "               [4, 5, 6],\n",
    "               [7, 8, 9]])\n",
    "a2 = np.array([[11, 12],\n",
    "               [13, 14],\n",
    "               [15, 16]])\n",
    "a3 = np.array([[11, 12, 13],\n",
    "               [14, 15, 16]])"
   ]
  },
  {
   "cell_type": "code",
   "execution_count": null,
   "metadata": {},
   "outputs": [],
   "source": [
    "print_array(np.hstack([a1, a2]))"
   ]
  },
  {
   "cell_type": "code",
   "execution_count": null,
   "metadata": {},
   "outputs": [],
   "source": [
    "print_array(np.vstack((a1, a3)))"
   ]
  },
  {
   "cell_type": "markdown",
   "metadata": {},
   "source": [
    "Для разбиения многомерного массива на несколько меньших, используются функции `hsplit` и `vsplit`. Если им передается числовой аргумент, то он трактуется как количество массивов, на которое нужно разбить исходный, а если последовательность, то ее элементы трактуются как индексы, по которым нужно производить разбиение:"
   ]
  },
  {
   "cell_type": "code",
   "execution_count": null,
   "metadata": {},
   "outputs": [],
   "source": [
    "a = np.arange(18)\n",
    "a.resize(2, 9)\n",
    "print_array(a)"
   ]
  },
  {
   "cell_type": "code",
   "execution_count": null,
   "metadata": {},
   "outputs": [],
   "source": [
    "arrays = np.hsplit(a, 3)\n",
    "\n",
    "for array in arrays:\n",
    "    print_array(array)"
   ]
  },
  {
   "cell_type": "code",
   "execution_count": null,
   "metadata": {},
   "outputs": [],
   "source": [
    "arrays = np.vsplit(a.T, [2, 5, 8])\n",
    "\n",
    "for array in arrays:\n",
    "    print_array(array)"
   ]
  },
  {
   "cell_type": "markdown",
   "metadata": {},
   "source": [
    "### Задание\n",
    "\n",
    "Выполнить reshape к формату 10x10 и размножить image_orig на w по горизонтали и на h по вертикали "
   ]
  },
  {
   "cell_type": "code",
   "execution_count": null,
   "metadata": {},
   "outputs": [],
   "source": [
    "\n",
    "w,h = 5,5\n",
    "\n",
    "image_orig = np.array([0,1,0,0,0,0,0,1,0,0,\n",
    "                       1,1,1,0,0,0,1,1,1,0,\n",
    "                       1,1,1,1,1,1,1,1,1,0,\n",
    "                       1,1,1,1,1,1,1,1,1,0,\n",
    "                       1,1,1,1,1,1,1,1,1,0,\n",
    "                       1,1,1,1,1,1,1,1,1,0,\n",
    "                       0,1,1,1,1,1,1,1,0,0,\n",
    "                       0,0,1,1,1,1,1,0,0,0,\n",
    "                       0,0,0,1,1,1,0,0,0,0,\n",
    "                       0,0,0,0,1,0,0,0,0,0\n",
    "                      ])\n",
    "\n",
    "\n",
    "image_orig = image_orig.reshape(10,10)\n",
    "\n",
    "image_orig = np.hstack([image_orig for _ in range(w)])\n",
    "image_orig = np.vstack([image_orig for _ in range(h)])"
   ]
  },
  {
   "cell_type": "markdown",
   "metadata": {},
   "source": [
    "### Операции и универсальные функции"
   ]
  },
  {
   "cell_type": "markdown",
   "metadata": {},
   "source": [
    "Обычные операции в Python перегружены для массива и при выполнении действуют на все его элементы:"
   ]
  },
  {
   "cell_type": "code",
   "execution_count": null,
   "metadata": {},
   "outputs": [],
   "source": [
    "a = np.arange(12).reshape((3, 4))\n",
    "print_array(a)"
   ]
  },
  {
   "cell_type": "code",
   "execution_count": null,
   "metadata": {},
   "outputs": [],
   "source": [
    "a += 1\n",
    "print(a)"
   ]
  },
  {
   "cell_type": "markdown",
   "metadata": {},
   "source": [
    "Если в качестве операндов используются два массива одинаковой размерности, то операция выполняется для всех пар элементов на соответствующих позициях, например:"
   ]
  },
  {
   "cell_type": "code",
   "execution_count": null,
   "metadata": {},
   "outputs": [],
   "source": [
    "a1 = np.arange(7, 3, -1).reshape(2, 2)\n",
    "a2 = np.arange(4).reshape(2, 2)\n",
    "\n",
    "print_array(a1)\n",
    "print_array(a2)"
   ]
  },
  {
   "cell_type": "code",
   "execution_count": null,
   "metadata": {},
   "outputs": [],
   "source": [
    "print(a1 * a2)\n",
    "print(a1 ** a2)"
   ]
  },
  {
   "cell_type": "markdown",
   "metadata": {},
   "source": [
    "Если вместо поэлементного умножения вы хотите матричное, то нужно воспользоваться функцией `dot`:"
   ]
  },
  {
   "cell_type": "code",
   "execution_count": null,
   "metadata": {},
   "outputs": [],
   "source": [
    "a1 = np.arange(6).reshape(2, 3)\n",
    "a2 = np.arange(6).reshape(3, 2)\n",
    "\n",
    "print_array(a1)\n",
    "print_array(a2)\n",
    "print_array(np.dot(a1, a2))"
   ]
  },
  {
   "cell_type": "markdown",
   "metadata": {},
   "source": [
    "Методы `sum`, `max` и `min`, определенные для встроенных коллекций Python, также определены и для класса `ndarray`. По умолчанию они работают со всеми элементами массива, но можно также указать конкретную ось, вдоль которой производить вычисления."
   ]
  },
  {
   "cell_type": "code",
   "execution_count": null,
   "metadata": {},
   "outputs": [],
   "source": [
    "a = np.arange(6).reshape(3, 2)\n",
    "print_array(a)"
   ]
  },
  {
   "cell_type": "code",
   "execution_count": null,
   "metadata": {},
   "outputs": [],
   "source": [
    "print('max={}, min={}'.format(a.max(), a.min()))\n",
    "\n",
    "# вычисляем по столбцам (axis=1), следовательно в результате\n",
    "# получим сумму элементов для каждой строки\n",
    "print(a.sum(axis=1)) "
   ]
  },
  {
   "cell_type": "markdown",
   "metadata": {},
   "source": [
    "В модуле `numpy.random` содержатся функции для генерации случайных массивов произвольной размерности. Например, функция `random` из этого модуля создает массив указанной формы и заполняет его случайными числами, равномерно распределенными в интервале $[0, 1)$:"
   ]
  },
  {
   "cell_type": "code",
   "execution_count": null,
   "metadata": {},
   "outputs": [],
   "source": [
    "a = np.random.random((3, 3))\n",
    "print_array(a)"
   ]
  },
  {
   "cell_type": "markdown",
   "metadata": {},
   "source": [
    "В NumPy реализованы те же математические функции, что встречаются в стандартной библиотеке Python, однако они дополнительно умеют работать с массивами. В терминологии библиотеки NumPy эти функции назваются **универсальными**."
   ]
  },
  {
   "cell_type": "code",
   "execution_count": null,
   "metadata": {},
   "outputs": [],
   "source": [
    "a = np.array([[1, 4, 9],\n",
    "              [16, 25, 36]])\n",
    "print(np.sqrt(a))"
   ]
  },
  {
   "cell_type": "code",
   "execution_count": null,
   "metadata": {},
   "outputs": [],
   "source": [
    "a = np.array([0, 30, 45, 60, 90], dtype=float) # градусы\n",
    "a *= np.pi / 180                               # преобразуем в радианы\n",
    "\n",
    "# вычисляем синус для обычного числа и для массива\n",
    "print(np.sin(a[3]))\n",
    "print(np.sin(a))"
   ]
  },
  {
   "cell_type": "code",
   "execution_count": null,
   "metadata": {},
   "outputs": [],
   "source": [
    "a = np.random.random(10)\n",
    "print(a)\n",
    "\n",
    "print('mean:',np.mean(a))     # вычисляем математическое ожидание\n",
    "print('variance:', np.var(a)) # вычисляем дисперсию"
   ]
  },
  {
   "cell_type": "markdown",
   "metadata": {},
   "source": [
    "Функция `where` позволяет быстро найти и заменить нужные элементы в массиве"
   ]
  },
  {
   "cell_type": "code",
   "execution_count": null,
   "metadata": {},
   "outputs": [],
   "source": [
    "a = np.arange(15).reshape(5,3)\n",
    "a = np.where(a >= 7, np.abs(14-a), a)\n",
    "print_array(a)"
   ]
  },
  {
   "cell_type": "markdown",
   "metadata": {},
   "source": [
    "Так же в Numpy можно проводить индексацию массива при помощи условий."
   ]
  },
  {
   "cell_type": "code",
   "execution_count": null,
   "metadata": {},
   "outputs": [],
   "source": [
    "a = np.random.randint(0,100,20)\n",
    "\n",
    "print_array(a[a % 2 == 0])"
   ]
  },
  {
   "cell_type": "markdown",
   "metadata": {},
   "source": [
    "### Задания\n",
    "\n",
    "\n",
    "1) Рассчитать абсолютную, максимальную и минимальную разницу между элементами массива b и a"
   ]
  },
  {
   "cell_type": "code",
   "execution_count": 4,
   "metadata": {},
   "outputs": [
    {
     "name": "stdout",
     "output_type": "stream",
     "text": [
      "0 2 [0 1 2]\n"
     ]
    }
   ],
   "source": [
    "a = np.array([1,1,1])\n",
    "b = np.array([1,2,3])\n",
    "\n",
    "print((b-a).min(),(b-a).max(), np.abs(b-a))"
   ]
  },
  {
   "cell_type": "markdown",
   "metadata": {},
   "source": [
    "2) Создать матрицу 3х3 и заполнить ее случайными значениями от 0 до 100. Привести все числа к ближайшему большему четному. Далее, вычесть из матрицы поэлементно среднее и разделить на стандартное отклонение. В конце, напечатать получившуюся матрицу, ее дисперсию и среднее."
   ]
  },
  {
   "cell_type": "code",
   "execution_count": null,
   "metadata": {},
   "outputs": [],
   "source": [
    "a = np.random.randint(-100,100, size = (3,3))\n",
    "a = np.where(a%2==0, a, a+1)\n",
    "\n",
    "a = (a - a.mean()) / a.std()\n",
    "\n",
    "print_array(a)\n",
    "print(a.var(), a.mean())"
   ]
  },
  {
   "cell_type": "markdown",
   "metadata": {},
   "source": [
    "### Задание*\n",
    "\n",
    "Давайте применим полученные знания на практике. Попробуем расскрасить полученный выше image_orig в цвет радуги"
   ]
  },
  {
   "cell_type": "code",
   "execution_count": null,
   "metadata": {},
   "outputs": [],
   "source": [
    "step = image_orig.shape[1] // 5 # определим шаг градиента\n",
    "\n",
    "# создадим фильтр.\n",
    "colors = np.array([\n",
    "                 np.transpose([[255]*step,np.linspace(0,255,step), [0] * step]),\n",
    "                 np.transpose([np.linspace(0,255,step)[::-1], [255] * step, [0] * step]),\n",
    "                 np.transpose([[0] * step, [255] * step, np.linspace(0,255,step)]),\n",
    "                 np.transpose([[0] * step,np.linspace(0,255,step)[::-1], [255] * step]),\n",
    "                 np.transpose([np.linspace(0,255,step), [0] * step, [255] * step])\n",
    "                ])\n",
    "\n",
    "# преобразуем его к формату как у изображения и приведем в int\n",
    "colors = colors.reshape(colors.shape[0] * colors.shape[1], colors.shape[-1]).astype(int)\n",
    "\n",
    "# наложим фильтр на изображение, которое в данном случае является маской\n",
    "new_img = colors * np.expand_dims(image_orig, axis = -1)"
   ]
  },
  {
   "cell_type": "markdown",
   "metadata": {},
   "source": [
    "## Matplotlib"
   ]
  },
  {
   "cell_type": "markdown",
   "metadata": {},
   "source": [
    "Библиотека [Matplotlib](https://matplotlib.org/) используется для создания различных 2D и 3D графиков и диаграмм, среди которых:"
   ]
  },
  {
   "cell_type": "markdown",
   "metadata": {},
   "source": [
    "* обычные графики (англ. *line plot*)\n",
    "* диаграммы разброса/рассеивания (англ. *scatter plot*), характеризующие корреляцию между различными факторами\n",
    "* гистограммы (англ. *histogram*)\n",
    "* столбчатые диаграммы (англ. *bar chart*)\n",
    "* круговые диаграммы (англ. *pie chart*)\n",
    "* и другие"
   ]
  },
  {
   "cell_type": "markdown",
   "metadata": {},
   "source": [
    "Функции и типы Matplotlib умеют работать с массивами NumPy, и более того, практически никогда не используются без них. В библиотеке Matplotlib релиазовано два интерфейса - один процедурный, другой объектно-ориентированный. Мы будем использовать процедурный, который реализован в модуле `matplotlib.pyplot`. Давайте импортируем модули, которые мы будем использовать в примерах в этом разделе.\n",
    "\n",
    "Примеры разных графиков: http://matplotlib.org/gallery.html"
   ]
  },
  {
   "cell_type": "markdown",
   "metadata": {},
   "source": [
    "Некоторые функции отрисовки\n",
    "<ul>\n",
    "    <li>`plt.scatter(x, y, params)` — нарисовать точки с координатами из $x$ по горизонтальной оси и из $y$ по вертикальной оси</li>\n",
    "    <li>`plt.plot(x, y, params)` — нарисовать график по точкам с координатами из $x$ по горизонтальной оси и из $y$ по вертикальной оси. Точки будут соединятся в том порядке, в котором они указаны в этих массивах.</li>\n",
    "    <li>`plt.fill_between(x, y1, y2, params)` — закрасить пространство между $y_1$ и $y_2$ по координатам из $x$.</li>\n",
    "    <li>`plt.pcolormesh(x1, x1, y, params)` — закрасить пространство в соответствии с интенсивностью $y$.</li>\n",
    "    <li>`plt.contour(x1, x1, y, lines)` — нарисовать линии уровня. Затем нужно применить `plt.clabel`</li>\n",
    "</ul>\n",
    "\n",
    "Вспомогательные функции\n",
    "<ul>\n",
    "    <li>`plt.figure(figsize=(x, y))` — создать график размера $(x, y)$</li>\n",
    "    <li>`plt.show()` — показать график.</li>\n",
    "    <li>`plt.subplot(...)` — добавить подграфик</li>\n",
    "    <li>`plt.xlim(x_min, x_max)` — установить пределы графика по горизонтальной оси</li>\n",
    "    <li>`plt.ylim(y_min, y_max)` — установить пределы графика по вертикальной оси</li>\n",
    "    <li>`plt.title(name)` — установить имя графика</li>\n",
    "    <li>`plt.xlabel(name)` — установить название горизонтальной оси</li>\n",
    "    <li>`plt.ylabel(name)` — установить название вертикальной оси</li>\n",
    "    <li>`plt.xticks([list of value])` — установить шкалу горизонтальной оси</li>\n",
    "    <li>`plt.yticks([list of value])` — установить шакалу вертикальной оси</li>\n",
    "    <li>`plt.legend(loc=...)` — сделать легенду в позиции loc</li>\n",
    "    <li>`plt.grid()` — добавить сетку на график</li>\n",
    "    <li>`plt.savefig(filename)` — сохранить график в файл</li>\n",
    "</ul>"
   ]
  },
  {
   "cell_type": "code",
   "execution_count": null,
   "metadata": {},
   "outputs": [],
   "source": [
    "import numpy as np\n",
    "import matplotlib.pyplot as plt"
   ]
  },
  {
   "cell_type": "markdown",
   "metadata": {},
   "source": [
    "### Картинка\n",
    "\n",
    "Начнем с самого простого и наглядного - картинки. Для вывода картинки необходимо в функцию `imshow` передать 3-d массив. Давайте отобразим результат прошлого задания."
   ]
  },
  {
   "cell_type": "code",
   "execution_count": null,
   "metadata": {},
   "outputs": [],
   "source": [
    "plt.figure()\n",
    "plt.imshow(new_img)\n",
    "plt.show()"
   ]
  },
  {
   "cell_type": "markdown",
   "metadata": {},
   "source": [
    "Попробуйте отобразить картинцу без шкал на осях."
   ]
  },
  {
   "cell_type": "code",
   "execution_count": null,
   "metadata": {},
   "outputs": [],
   "source": [
    "plt.figure()\n",
    "plt.imshow(new_img)\n",
    "plt.xticks([])\n",
    "plt.yticks([])\n",
    "plt.show()"
   ]
  },
  {
   "cell_type": "markdown",
   "metadata": {},
   "source": [
    "### График"
   ]
  },
  {
   "cell_type": "markdown",
   "metadata": {},
   "source": [
    "Обычный график создается с помощью функции `plot`. Основными ее параметрами являются две последовательности: в первой содержатся абсциссы точек, а во второй их ординаты. Функция `plot` строит график таким образом, чтобы он проходил через эти точки. Это означает, что чем сложнее форма графика, тем больше точек нужно передать в `plot`. Например, для построения прямой достаточно двух точек, но этого явно мало, чтобы правильно нарисовать параболу."
   ]
  },
  {
   "cell_type": "markdown",
   "metadata": {},
   "source": [
    "Кроме координат точек, функция `plot` имеет множество других параметров для настройки того, как график будет выглядеть. В наших примерах мы познакомим вас с некоторыми из них, а полную информацию можно получить в [справочном руководстве](https://matplotlib.org/api/_as_gen/matplotlib.pyplot.plot.html#matplotlib.pyplot.plot)."
   ]
  },
  {
   "cell_type": "markdown",
   "metadata": {},
   "source": [
    "Давайте начнем с простого примера и создадим график прямой линии $2x + 1$:"
   ]
  },
  {
   "cell_type": "code",
   "execution_count": null,
   "metadata": {},
   "outputs": [],
   "source": [
    "# двух точек достаточно для того, чтобы построить прямую\n",
    "\n",
    "x = [0, 2] # ординаты\n",
    "y = [1, 5] # абсциссы\n",
    "\n",
    "plt.plot(x, y);"
   ]
  },
  {
   "cell_type": "markdown",
   "metadata": {},
   "source": [
    "Заметим, что сама функция `plot` не рисует график, а просто инициализирует нужную информацию для этого. В среде Jupyter Notebook по умолчанию используется режим, при котором вывод графика на экран происходит автоматически при выполнении ячейки, но вообще говоря, за это отвечает отдельная функция `show`. Если вы при работе с Matplotlib столкнетесь с ситуацией, когда график не отображается, в первую очередь стоит попробовать вызвать эту функцию."
   ]
  },
  {
   "cell_type": "markdown",
   "metadata": {},
   "source": [
    "Давайте немного иначе настроим наш график, чтобы продемонстрировать некоторые возможности Matplotlib:"
   ]
  },
  {
   "cell_type": "markdown",
   "metadata": {},
   "source": [
    "## Задание 1\n",
    "\n",
    "Постройте график \n",
    "\n",
    "$y=x^2+2x+6$\n",
    "для  $x\\in[-20,20]$ с шагом 0.1\n",
    "\n",
    "для генерации точек используйте библиотеку `NumPy`"
   ]
  },
  {
   "cell_type": "code",
   "execution_count": null,
   "metadata": {},
   "outputs": [],
   "source": [
    "# type your code here\n",
    "x =\n",
    "y = "
   ]
  },
  {
   "cell_type": "code",
   "execution_count": null,
   "metadata": {},
   "outputs": [],
   "source": [
    "x = np.array([0, 2])\n",
    "y = np.array([1, 5])\n",
    "\n",
    "# задаем дополнительно цвет линии и толщину\n",
    "plt.plot(x, y, color='red', linewidth=2.5)\n",
    "\n",
    "# установим границы осей X и Y так, чтобы график не\n",
    "# выглядел \"зажатым\" осями координат\n",
    "plt.xlim(x.min() - 0.5, x.max() + 0.5)\n",
    "plt.ylim(y.min() - 0.5, y.max() + 0.5)\n",
    "\n",
    "# определим, какие точки будут отмечены на осях\n",
    "x_ticks = np.linspace(x.min(), x.max(), 2)\n",
    "y_ticks = np.linspace(y.min(), y.max(), 2)\n",
    "plt.xticks(x_ticks)\n",
    "plt.yticks(y_ticks)\n",
    "\n",
    "# определим, как будут подписаны координатные оси\n",
    "plt.xlabel('abscissa')\n",
    "plt.ylabel('ordinate')\n",
    "\n",
    "# рисуем график\n",
    "plt.show()"
   ]
  },
  {
   "cell_type": "markdown",
   "metadata": {},
   "source": [
    "Можно в одной системе координат отобразить сразу несколько графиков. Давайте попробуем вывести графики синуса и косинуса."
   ]
  },
  {
   "cell_type": "code",
   "execution_count": null,
   "metadata": {},
   "outputs": [],
   "source": [
    "x = np.linspace(-np.pi, np.pi, 200)\n",
    "cos_x = np.cos(x)\n",
    "sin_x = np.sin(x)\n",
    "\n",
    "# добавляем два графика, устанавливаем для них цвет, тип линии\n",
    "# и название\n",
    "plt.plot(x, cos_x, color='red', linestyle='dashed', label='cosine')\n",
    "plt.plot(x, sin_x, color='green', linestyle='dotted', label='sine')\n",
    "\n",
    "# добавляем легеду (информацию о том, какая линия что означает)\n",
    "plt.legend()\n",
    "\n",
    "# определяем, какие точки будут отмечены на осях\n",
    "# можно в качестве значения указывать LaTeX-формулу (используем\n",
    "# это для того, чтобы вместо, например, 3.1415.. было написано pi)\n",
    "x_ticks = np.array([-np.pi, -np.pi/2, 0, np.pi/2, np.pi])\n",
    "x_ticks_name = [r'$-\\pi$', r'$-\\pi/2$', r'$0$', r'$\\pi/2$', r'$\\pi$']\n",
    "y_ticks = np.array([-1, -0.5, 0, 0.5, 1])\n",
    "y_ticks_name = [r'$-1$', r'$-0.5$', r'$0$', r'$0.5$', r'$1$']\n",
    "\n",
    "plt.xticks(x_ticks, x_ticks_name)\n",
    "plt.yticks(y_ticks, y_ticks_name)\n",
    "\n",
    "# рисуем график\n",
    "plt.show()"
   ]
  },
  {
   "cell_type": "markdown",
   "metadata": {},
   "source": [
    "Теперь давайте попробуем настроить координатные оси таким образом, чтобы центр графика находился в точке $(0, 0)$, как мы привыкли со школы. Для этого нам потребуется метод `gca`, возвращающий объект, который можно использовать для управления внешним видом координатных осей. На рисунке сверху есть четыре оси, образующих прямоугольник, внутри которого находятся графики. Нам нужно скрыть две из них (например, ту, что сверху и ту, что справа), а оставшиеся две поместить в точку $(0, 0)$:"
   ]
  },
  {
   "cell_type": "code",
   "execution_count": null,
   "metadata": {},
   "outputs": [],
   "source": [
    "x = np.linspace(-np.pi, np.pi, 200)\n",
    "cos_x = np.cos(x)\n",
    "sin_x = np.sin(x)\n",
    "\n",
    "# добавляем два графика, устанавливаем для них цвет, тип линии\n",
    "# и название\n",
    "plt.plot(x, cos_x, color='red', linestyle='dashed', label='cosine')\n",
    "plt.plot(x, sin_x, color='green', linestyle='dotted', label='sine')\n",
    "\n",
    "# добавляем легеду (информацию о том, какая линия что означает)\n",
    "plt.legend()\n",
    "\n",
    "# определяем, какие точки будут отмечены на осях\n",
    "# можно в качестве значения указывать LaTex-формулу (используем\n",
    "# это для того, чтобы вместо, например, 3.1415.. было написано pi)\n",
    "x_ticks = np.array([-np.pi, -np.pi/2, 0, np.pi/2, np.pi])\n",
    "x_ticks_name = [r'$-\\pi$', r'$-\\pi/2$', r'$0$', r'$\\pi/2$', r'$\\pi$']\n",
    "y_ticks = np.array([-1, -0.5, 0, 0.5, 1])\n",
    "y_ticks_name = [r'$-1$', r'$-0.5$', r'$0$', r'$0.5$', r'$1$']\n",
    "\n",
    "plt.xticks(x_ticks, x_ticks_name)\n",
    "plt.yticks(y_ticks, y_ticks_name)\n",
    "\n",
    "# меняем положение координатных осей\n",
    "axes = plt.gca()\n",
    "\n",
    "    # скрываем две оси\n",
    "axes.spines['top'].set_color(None)\n",
    "axes.spines['right'].set_color(None)\n",
    "\n",
    "    # устаналиваем позицию левой и правой оси;\n",
    "    # data' означает, что 0 - это координата, через которую должна проходить ось\n",
    "axes.spines['left'].set_position(('data', 0))\n",
    "axes.spines['bottom'].set_position(('data', 0))\n",
    "\n",
    "# рисуем график\n",
    "plt.show()"
   ]
  },
  {
   "cell_type": "markdown",
   "metadata": {},
   "source": [
    "### Задание\n",
    "\n",
    "Попробуйте нарисовать график функции: $$ f(x) =  \\frac{\\mathrm{1} }{\\mathrm{1} + e^{-x} }  $$ \n",
    "\n",
    "\n"
   ]
  },
  {
   "cell_type": "code",
   "execution_count": null,
   "metadata": {},
   "outputs": [],
   "source": [
    "title = r\"График функции: $f(x) = \\frac{\\mathrm{1} }{\\mathrm{1} + e^{-x} }$\"\n",
    "\n",
    "\n",
    "x = np.arange(-5,5,0.1)\n",
    "y = 1/(1+np.exp(-x))\n",
    "\n",
    "plt.figure()\n",
    "plt.plot(x[x < 0],y[x < 0], color='red', linestyle='dashed')\n",
    "plt.plot(x[x > 0],y[x > 0])\n",
    "\n",
    "plt.title(title, fontsize=20)\n",
    "axes = plt.gca()\n",
    "\n",
    "axes.spines['top'].set_color(None)\n",
    "axes.spines['right'].set_color(None)\n",
    "\n",
    "axes.spines['left'].set_position(('data', 0))\n",
    "\n",
    "\n",
    "plt.show()\n"
   ]
  },
  {
   "cell_type": "markdown",
   "metadata": {},
   "source": [
    "### Диаграмма разброса"
   ]
  },
  {
   "cell_type": "markdown",
   "metadata": {},
   "source": [
    "Диаграмма разброса используется тогда, когда нужно оценить корреляцию между несколькими факторами. Для примера, в качестве одного фактора мы возьмем просто случайные, ничего не означающие данные. Второй фактор мы получим как сумму первого и некоторой случайной величины с достаточно большой дисперсией. Очевидно, что между этими двумя значениями мы должны увидеть положительную корреляцию - с ростом одного, увеличивается и второе. Проверим это на практике:"
   ]
  },
  {
   "cell_type": "code",
   "execution_count": null,
   "metadata": {},
   "outputs": [],
   "source": [
    "from random import uniform\n",
    "from random import normalvariate\n",
    "\n",
    "# используем генератор, чтобы создать массив случайных данных\n",
    "x = np.array([uniform(0, 100) for i in range(1000)])\n",
    "y = np.array([item + normalvariate(0, 20) for item in x])\n",
    "\n",
    "# строим диаграмму разброса\n",
    "plt.scatter(x, y)\n",
    "plt.show()"
   ]
  },
  {
   "cell_type": "markdown",
   "metadata": {},
   "source": [
    "Несмотря на то, что мы выбрали большое значение стандартного отклонения для случайной величины, с помощью которой мы оказывали влияние на первый фактор, положительная корреляция видна невооруженным глазом: с ростом $x$ возрастает $y$. Если стандартное отклонение продолжить увеличивать, то в определенный момент корреляция, очевидно, пропадет. Убедитесь в этом сами."
   ]
  },
  {
   "cell_type": "markdown",
   "metadata": {},
   "source": [
    "### Задание\n",
    "\n",
    "Попробуйте разделить диаграмму по четвертям, проведя пунктирные линии , и расскрасить все четверти в разные цвета"
   ]
  },
  {
   "cell_type": "code",
   "execution_count": null,
   "metadata": {},
   "outputs": [],
   "source": [
    "middle_x = np.mean(x)\n",
    "middle_y = np.mean(y)\n",
    "\n",
    "plt.plot([middle_x,middle_x],[y.min(),y.max()], linestyle = '--', color = \"black\")\n",
    "plt.plot([x.min(),x.max()],[middle_y, middle_y], linestyle = '--', color = \"black\")\n",
    "\n",
    "plt.scatter(x[(x > middle_x) & (y > middle_y)], y[(x > middle_x) & (y > middle_y)], color = 'red', label = \"I\")\n",
    "plt.scatter(x[(x > middle_x) & (y <= middle_y)], y[(x > middle_x) & (y <= middle_y)], color = 'violet', label = \"II\")\n",
    "plt.scatter(x[(x <= middle_x) & (y <= middle_y)], y[(x <= middle_x) & (y <= middle_y)], color = 'orange', label = \"III\")\n",
    "plt.scatter(x[(x <= middle_x) & (y > middle_y)], y[(x <= middle_x) & (y > middle_y)], color = 'green', label = \"IV\")\n",
    "\n",
    "plt.legend()\n",
    "plt.show()"
   ]
  },
  {
   "cell_type": "markdown",
   "metadata": {},
   "source": [
    "### Гистограмма"
   ]
  },
  {
   "cell_type": "markdown",
   "metadata": {},
   "source": [
    "Гистограммы часто используются для того, чтобы сделать предположение о том, какому распределению подчиняется случайная выборка: по выборке строится гистограмма, а затем сравнивается, плотность распределения какого закона она напоминает больше всего. В качестве примера, рассмотрим выборку из нормального закона распределения, но вообразим, что нам это неизвестно:"
   ]
  },
  {
   "cell_type": "code",
   "execution_count": null,
   "metadata": {},
   "outputs": [],
   "source": [
    "from math import sqrt\n",
    "from random import normalvariate\n",
    "\n",
    "def norm_density(x, mean, std):\n",
    "    tmp1 = 1 / (std * np.sqrt(2 * np.pi))\n",
    "    tmp2 = -((x - mean)**2 / 2 * std**2)\n",
    "    return tmp1 * (np.e ** tmp2)\n",
    "\n",
    "\n",
    "x = np.array([normalvariate(3, 1) for i in range(10000)])\n",
    "\n",
    "# добавляем гистограмму на график (bins - количество столбиков в ней)\n",
    "plt.hist(x, bins=15, density=True)\n",
    "\n",
    "# добавим еще для наглядности график плотности распределения\n",
    "x_mean = np.mean(x)\n",
    "x_std = np.std(x) # стандартное отклонение\n",
    "density_x = np.linspace(x.min(), x.max(), 200)\n",
    "density_y = np.array([norm_density(item, x_mean, x_std) for item in density_x])\n",
    "plt.plot(density_x, density_y, linewidth=2.5, color='red')\n",
    "\n",
    "# рисуем графики\n",
    "plt.show()"
   ]
  },
  {
   "cell_type": "markdown",
   "metadata": {},
   "source": [
    "Как видите, гистограмма, построенная по выборке из \"неизвестной\" случайной величины, по форме похожа на плотность нормального распределения. Исходя из этого можно сделать вывод, что \"неизвестная\" случайная величина имеет закон распределения, близкий к нормальному."
   ]
  },
  {
   "cell_type": "markdown",
   "metadata": {},
   "source": [
    "В заключение дадим очень полезную [ссылку](https://matplotlib.org/tutorials/index.html) на раздел документации библиотеки Matplotlib, по которой можно найти большое количество примеров графиков вместе с исходным кодом, строящим их. Примеры оттуда позволяют увидеть весь спектр возможностей Matplotlib."
   ]
  },
  {
   "cell_type": "markdown",
   "metadata": {},
   "source": [
    "## pandas"
   ]
  },
  {
   "cell_type": "markdown",
   "metadata": {},
   "source": [
    "Библиотека [pandas](https://pandas.pydata.org/pandas-docs/stable/index.html) предоставляет классы для быстрой обработки и анализа больших объемов данных. В своей реализации она использует библиотеку NumPy, с которой мы познакомились чуть выше. Двумя важнейшими классами библиотеки pandas являются `Series` и `DataFrame`. Оба они представляют собой массивы, элементам которых назначены специальные **метки** (англ. *label*), в совокупности образующие **индекс** этого массива. Термин \"индекс\" из pandas пересекается с тем, что мы использовали для обозначения позиции элемента в последовательности. Обычно путаницы из-за этого не возникает, но вам стоит иметь это в виду."
   ]
  },
  {
   "cell_type": "markdown",
   "metadata": {},
   "source": [
    "Все элеметы массивов pandas приводятся к одному и тому же типу данных (используются типы из библиотеки NumPy)."
   ]
  },
  {
   "cell_type": "markdown",
   "metadata": {},
   "source": [
    "Перед тем как начать использование библиотеки pandas, подключим необходимый модуль:"
   ]
  },
  {
   "cell_type": "code",
   "execution_count": null,
   "metadata": {},
   "outputs": [],
   "source": [
    "import numpy as np\n",
    "import pandas as pd"
   ]
  },
  {
   "cell_type": "markdown",
   "metadata": {},
   "source": [
    "### Класс Series"
   ]
  },
  {
   "cell_type": "markdown",
   "metadata": {},
   "source": [
    "`Series` представляет собой изменяемый одномерный массив, к каждому элементу которого прикреплена произвольная метка. Объект класса `Series` можно создать несколькими способами:"
   ]
  },
  {
   "cell_type": "code",
   "execution_count": null,
   "metadata": {},
   "outputs": [],
   "source": [
    "# из обычного списка\n",
    "s = pd.Series([1, 2, 3, 4, 5])\n",
    "print(s)"
   ]
  },
  {
   "cell_type": "code",
   "execution_count": null,
   "metadata": {},
   "outputs": [],
   "source": [
    "# из ndarray\n",
    "s = pd.Series(np.random.random((3)))\n",
    "print(s)"
   ]
  },
  {
   "cell_type": "markdown",
   "metadata": {},
   "source": [
    "Обратите внимание на первый столбец в выведенных на экран объектах `Series` - это и есть их индекс. Обратиться к нему можно с помощью атрибута `index`:"
   ]
  },
  {
   "cell_type": "code",
   "execution_count": null,
   "metadata": {},
   "outputs": [],
   "source": [
    "print(s.index)"
   ]
  },
  {
   "cell_type": "markdown",
   "metadata": {},
   "source": [
    "По умолчанию индекс представляет собой последовательно возрастающие от нуля числа, но это легко можно изменить, явно указав метки:"
   ]
  },
  {
   "cell_type": "code",
   "execution_count": null,
   "metadata": {},
   "outputs": [],
   "source": [
    "s = pd.Series([1, 2, 3], index=['first', 'second', 'third'])\n",
    "print(s.index)\n",
    "print(s)"
   ]
  },
  {
   "cell_type": "markdown",
   "metadata": {},
   "source": [
    "Одномерный массив можно создать с помощью словаря Python, при этом ключи становятся метками, а значения - элементами:"
   ]
  },
  {
   "cell_type": "code",
   "execution_count": null,
   "metadata": {},
   "outputs": [],
   "source": [
    "s = pd.Series({'a':100, 'b':200, 'c':300})\n",
    "print(s)"
   ]
  },
  {
   "cell_type": "markdown",
   "metadata": {},
   "source": [
    "Объекты класса `Series` могут использовать как `ndarray` или как `dict`:"
   ]
  },
  {
   "cell_type": "code",
   "execution_count": null,
   "metadata": {},
   "outputs": [],
   "source": [
    "s = pd.Series([1, 2, 3, 4, 5], index=['a', 'b', 'c', 'd', 'e'])\n",
    "\n",
    "# получаем элемент по его позиции, как для ndarray\n",
    "print(s[1])\n",
    "\n",
    "# обращаемся к элементу по метке, как для dict\n",
    "print(s['e'])\n",
    "\n",
    "# определяем, есть ли метка в объекте Series\n",
    "print('c' in s)"
   ]
  },
  {
   "cell_type": "code",
   "execution_count": null,
   "metadata": {},
   "outputs": [],
   "source": [
    "# получаем срез, как для ndarray;\n",
    "# срез объекта Series тоже имеет тип Series\n",
    "print(s[3:1:-1])"
   ]
  },
  {
   "cell_type": "markdown",
   "metadata": {},
   "source": [
    "Бинарные операции для одномерных массивов pandas работают так же, как и для массивов NumPy (применяются для каждого элемента). Универсальные функции NumPy могут в качестве аргумента принимать объекты `Series`:"
   ]
  },
  {
   "cell_type": "code",
   "execution_count": null,
   "metadata": {},
   "outputs": [],
   "source": [
    "s1 = pd.Series([1, 2, 3], index=['a', 'b', 'c'])\n",
    "s2 = pd.Series([0.1, 0.2, 0.3], index=['a', 'b', 'c'])\n",
    "print(s1, '\\n')\n",
    "print(s2)"
   ]
  },
  {
   "cell_type": "code",
   "execution_count": null,
   "metadata": {},
   "outputs": [],
   "source": [
    "print(s1 * 3, '\\n')\n",
    "print(s1 + s2, '\\n')\n",
    "print(np.exp(s1))"
   ]
  },
  {
   "cell_type": "markdown",
   "metadata": {},
   "source": [
    "Особо стоит отметить случай, когда бинарная операция выполняется для массивов `Series`, имеющих разные метки. В этом случае происходит следующее: если метка есть в обоих массивах, то операция выполняется и ее результат становится значением элемента в новом объекте, иначе - в новый объект записывается специальная константа `Nan`, которая трактуется как отсутствие значения."
   ]
  },
  {
   "cell_type": "code",
   "execution_count": null,
   "metadata": {},
   "outputs": [],
   "source": [
    "s2.index = ['x', 'a', 'c'] # меняем индекс у объекта s2\n",
    "print(s2)"
   ]
  },
  {
   "cell_type": "code",
   "execution_count": null,
   "metadata": {},
   "outputs": [],
   "source": [
    "result = s1 - s2\n",
    "print(result)"
   ]
  },
  {
   "cell_type": "markdown",
   "metadata": {},
   "source": [
    "Любые бинарные арифметические операции со значениями `Nan` будут давать `Nan`:"
   ]
  },
  {
   "cell_type": "code",
   "execution_count": null,
   "metadata": {},
   "outputs": [],
   "source": [
    "print(result + 1)"
   ]
  },
  {
   "cell_type": "markdown",
   "metadata": {},
   "source": [
    "Объекты типа `Series` поддерживают обращение сразу к нескольким элементам:"
   ]
  },
  {
   "cell_type": "code",
   "execution_count": null,
   "metadata": {},
   "outputs": [],
   "source": [
    "s = pd.Series([1, 2, 3, 4, 5], index=['a', 'b', 'c', 'd', 'e'])\n",
    "print(s[['a', 'd', 'e']], '\\n')\n",
    "\n",
    "# изменяем сразу несколько элементов\n",
    "s[['c', 'd']] = 0\n",
    "print(s)"
   ]
  },
  {
   "cell_type": "markdown",
   "metadata": {},
   "source": [
    "Объекты типа `Series` можно сравнивать между собой и со скалярами. Сравнения, как и другие бинарные операции, выполняются для каждого элемента отдельно. Результатом становится новый объект, у которого в i-ой позиции стоит `True`, если сравнение соответствующего элемента дало истину:"
   ]
  },
  {
   "cell_type": "code",
   "execution_count": null,
   "metadata": {},
   "outputs": [],
   "source": [
    "s1 = pd.Series([10, 5, 7])\n",
    "s2 = pd.Series([1, 12, 3])\n",
    "\n",
    "print(s1 > s2, '\\n')\n",
    "print(s2 == 3)"
   ]
  },
  {
   "cell_type": "markdown",
   "metadata": {},
   "source": [
    "С помощью массива, состоящего из булевых элементов, можно отфильтровать элементы другого массива той же размерности. При этом в результирующий объект `Series` попадают только элементы, для которых в соответствующей позиции фильтрующего массива находится `True`:"
   ]
  },
  {
   "cell_type": "code",
   "execution_count": null,
   "metadata": {},
   "outputs": [],
   "source": [
    "print(s1[s1 > s2])"
   ]
  },
  {
   "cell_type": "markdown",
   "metadata": {},
   "source": [
    "В заключение скажем, что объекты класса `Series` являются итерируемыми, т.е. могут использоваться в цикле `for ... in`:"
   ]
  },
  {
   "cell_type": "code",
   "execution_count": null,
   "metadata": {},
   "outputs": [],
   "source": [
    "s = pd.Series({'aaa':0.1, 'bbb':0.2, 'ccc':0.3})\n",
    "\n",
    "for item in s:\n",
    "    print(item)"
   ]
  },
  {
   "cell_type": "code",
   "execution_count": null,
   "metadata": {},
   "outputs": [],
   "source": [
    "# так выполняется итерация по меткам:\n",
    "for item in s.index:\n",
    "    print(item)"
   ]
  },
  {
   "cell_type": "markdown",
   "metadata": {},
   "source": [
    "### Класс DataFrame"
   ]
  },
  {
   "cell_type": "markdown",
   "metadata": {},
   "source": [
    "Класс `DataFrame` представляет двумерный изменяемый массив (матрицу), столбцами которого являются одномерные массивы `Series`. С помощью атрибутов `index` и `columns` задаются метки для строк и столбцов. Как и для типа `Series`, объекты `DataFrame` можно создавать несколькими способами:"
   ]
  },
  {
   "cell_type": "code",
   "execution_count": null,
   "metadata": {},
   "outputs": [],
   "source": [
    "# из словаря Series (ключи словаря становятся метками столбцов,\n",
    "# индексы Series объединяются и образуют индекс для строк)\n",
    "df = pd.DataFrame({'col1': pd.Series([1, 2, 3], ['row1', 'row2', 'row3']),\n",
    "                   'col2': pd.Series([0.1, 0.2, 0.3, 0.4], ['row1', 'row2', 'row5', 'row6'])})\n",
    "print(df)\n",
    "print(df.index)\n",
    "print(df.columns)"
   ]
  },
  {
   "cell_type": "code",
   "execution_count": null,
   "metadata": {},
   "outputs": [],
   "source": [
    "# из словаря ndarray/list (ключи словаря становятся метками\n",
    "# столбцов, для строк используется индекс по умолчанию)\n",
    "df = pd.DataFrame({'c1': [1, 2, 3], 'c2':[4, 5, 6]})\n",
    "df.index = ['r1', 'r2', 'r3']\n",
    "print(df)"
   ]
  },
  {
   "cell_type": "markdown",
   "metadata": {},
   "source": [
    "Семантически объект `DataFrame` может рассматриваться как [словарь](09_Collections.ipynb#Словарь), ключом в котором являются метки столбцов, а значением - соответствующие объекты `Series`. Операции, которые мы рассматривали для словаря, схожим образом выполняются и для объектов `DataFrame`: "
   ]
  },
  {
   "cell_type": "code",
   "execution_count": null,
   "metadata": {},
   "outputs": [],
   "source": [
    "df = pd.DataFrame({'c1': pd.Series(np.random.random(3), ['r1', 'r2', 'r3']),\n",
    "                   'c2': pd.Series(np.random.random(4), ['r1', 'r2', 'r3', 'r4']),\n",
    "                   'c3': pd.Series(np.random.random(3), ['r1', 'r3', 'r4'])})\n",
    "print(df)"
   ]
  },
  {
   "cell_type": "code",
   "execution_count": null,
   "metadata": {},
   "outputs": [],
   "source": [
    "# получение конкретного элемента\n",
    "print(df['c1']['r1'], '\\n')\n",
    "\n",
    "# получение нескольких элементов столбца\n",
    "print(df['c3'][['r1', 'r2']], '\\n')\n",
    "\n",
    "# получение столбца целиком\n",
    "print(df['c2'])"
   ]
  },
  {
   "cell_type": "markdown",
   "metadata": {},
   "source": [
    "Очень удобной является возможность обращаться к столбцам и строкам как к атрибутам. Например, вот так мы можем переписать предыдущий блок кода:"
   ]
  },
  {
   "cell_type": "code",
   "execution_count": null,
   "metadata": {},
   "outputs": [],
   "source": [
    "print(df.c1.r1, '\\n')\n",
    "print(df.c3[['r1', 'r2']], '\\n')\n",
    "print(df.c2)"
   ]
  },
  {
   "cell_type": "code",
   "execution_count": null,
   "metadata": {},
   "outputs": [],
   "source": [
    "# добавление и удаление столбца\n",
    "df['c4'] = pd.Series(np.random.random(2), index=['r2', 'r4'])\n",
    "print(df, '\\n')\n",
    "\n",
    "del df['c4']\n",
    "print(df)"
   ]
  },
  {
   "cell_type": "markdown",
   "metadata": {},
   "source": [
    "Существуют также удобные способы для обращения к строкам. В результате возвращаются объекты `Series`, индекс которых состоит из меток столобцов объекта `DataFrame`."
   ]
  },
  {
   "cell_type": "code",
   "execution_count": null,
   "metadata": {},
   "outputs": [],
   "source": [
    "# получаем строку по метке и по позиции\n",
    "print(df.loc['r2'], '\\n')\n",
    "print(df.iloc[1])"
   ]
  },
  {
   "cell_type": "code",
   "execution_count": null,
   "metadata": {},
   "outputs": [],
   "source": [
    "# получаем сразу несколько строк\n",
    "print(df.loc[['r1', 'r3']], '\\n')\n",
    "\n",
    "# получаем несколько строк и несколько столбцов\n",
    "print(df.loc[['r2', 'r3'], ['c1', 'c2']])"
   ]
  },
  {
   "cell_type": "markdown",
   "metadata": {},
   "source": [
    "Наконец, можно получить целый набор строк объекта `DataFrame` одним из следующих способов (в результате получается новый объект `DataFrame`, как и следовало ожидать):"
   ]
  },
  {
   "cell_type": "code",
   "execution_count": null,
   "metadata": {},
   "outputs": [],
   "source": [
    "# используем операцию взятия среза\n",
    "df2 = df[3:1:-1]\n",
    "print(type(df2))\n",
    "print(df2)"
   ]
  },
  {
   "cell_type": "code",
   "execution_count": null,
   "metadata": {},
   "outputs": [],
   "source": [
    "# используем специфическую для массивов pandas операцию\n",
    "print(df.loc[['r1', 'r2']])"
   ]
  },
  {
   "cell_type": "markdown",
   "metadata": {},
   "source": [
    "С таблицами, можно выполнять арифметические операции, которые реализованы по тому же принципу, что и для объектов `Series`:"
   ]
  },
  {
   "cell_type": "code",
   "execution_count": null,
   "metadata": {},
   "outputs": [],
   "source": [
    "df1 = pd.DataFrame({'c1': pd.Series([0, 1, 2], ['r1', 'r2', 'r3']),\n",
    "                    'c2': pd.Series([3, 4, 5], ['r1', 'r2', 'r3'])})\n",
    "df2 = pd.DataFrame({'c1': pd.Series([0.0, 0.1, 0.2], ['r1', 'r2', 'r3']),\n",
    "                    'c2': pd.Series([0.3, 0.4, 0.5], ['r1', 'r2', 'r4']),\n",
    "                    'c3': pd.Series([0.6, 0.7, 0.8], ['r1', 'r2', 'r4'])})\n",
    "s = pd.Series(np.ones((3)), index=['c1', 'c2', 'c3'])\n",
    "\n",
    "print(df1, '\\n')\n",
    "print(df2, '\\n')\n",
    "print(s)"
   ]
  },
  {
   "cell_type": "code",
   "execution_count": null,
   "metadata": {},
   "outputs": [],
   "source": [
    "# арифметическая операция со скаляром\n",
    "print(df1 + 1)"
   ]
  },
  {
   "cell_type": "code",
   "execution_count": null,
   "metadata": {},
   "outputs": [],
   "source": [
    "# арифметическая операция с двумя матрицами (результат состоит\n",
    "# из объединения строк и столбцов операндов, значение Nan вставляется\n",
    "# в позиции, где отсутствует элемент в одном из операндов)\n",
    "print(df1 * df2)"
   ]
  },
  {
   "cell_type": "code",
   "execution_count": null,
   "metadata": {},
   "outputs": [],
   "source": [
    "# арифметическая операция с объектом Series (выполняется по строкам,\n",
    "# т.е. в индексе объекта Series должны быть указаны метки столбцов,\n",
    "# для которых нужно применить операцию)\n",
    "print(df2 - s)"
   ]
  },
  {
   "cell_type": "markdown",
   "metadata": {},
   "source": [
    "Покажем, как можно создать новый объект `DataFrame`, применив фильтрацию к элементам существующего:"
   ]
  },
  {
   "cell_type": "code",
   "execution_count": null,
   "metadata": {},
   "outputs": [],
   "source": [
    "result = df2[df2.c2 > 0.3]\n",
    "print(result)"
   ]
  },
  {
   "cell_type": "markdown",
   "metadata": {},
   "source": [
    "В заключение скажем, что объекты `DataFrame` являются итерируемыми, и их можно использовать в циклах `for ... in`. При этом стоит отметить, что итерация по массивам pandas выполняется **медленно**, и лучше ее избегать (например, подобрав нужную функцию, которая сделает все сама)."
   ]
  },
  {
   "cell_type": "markdown",
   "metadata": {},
   "source": [
    "### Статистика"
   ]
  },
  {
   "cell_type": "markdown",
   "metadata": {},
   "source": [
    "В pandas существует большое количество функций и методов, предназначенных для получения различных статистических данных об одномерных и двумерных массивах. В этом разделе мы рассмотрим некоторые из них."
   ]
  },
  {
   "cell_type": "code",
   "execution_count": null,
   "metadata": {},
   "outputs": [],
   "source": [
    "s = pd.Series(np.random.random(5))\n",
    "df = pd.DataFrame({'c1': pd.Series(np.random.random(3), index=['r1', 'r2', 'r3']),\n",
    "                   'c2': pd.Series(np.random.random(3), index=['r1', 'r2', 'r3'])})\n",
    "\n",
    "print(s, '\\n')\n",
    "print(df)"
   ]
  },
  {
   "cell_type": "code",
   "execution_count": null,
   "metadata": {},
   "outputs": [],
   "source": [
    "# статистика для Series\n",
    "print('sum={}, prod={}'.format(\\\n",
    "       s.sum(), s.prod()))\n",
    "print('mean={}, var={}, std={}'.format(\\\n",
    "       s.mean(), s.var(), s.std()))"
   ]
  },
  {
   "cell_type": "code",
   "execution_count": null,
   "metadata": {},
   "outputs": [],
   "source": [
    "# статистика для DataFrame (методы все те же)\n",
    "    \n",
    "    # сумма элементов по столбцам\n",
    "print(df.sum(), '\\n')\n",
    "\n",
    "    # сумма элементов по строкам\n",
    "print(df.sum(1))"
   ]
  },
  {
   "cell_type": "code",
   "execution_count": null,
   "metadata": {},
   "outputs": [],
   "source": [
    "# основная статистика для DataFrame (для Series тот же метод)\n",
    "print(df.describe())"
   ]
  },
  {
   "cell_type": "markdown",
   "metadata": {},
   "source": [
    "### Чтение файлов csv, xlsx"
   ]
  },
  {
   "cell_type": "markdown",
   "metadata": {},
   "source": [
    "Очень часто исходная информация хранится в файлах типа `csv` или `xlsx`. Для того, чтобы их прочитать, существуют различные библиотеки, но в `pandas` уже есть реализованный функционал."
   ]
  },
  {
   "cell_type": "code",
   "execution_count": null,
   "metadata": {},
   "outputs": [],
   "source": [
    "import numpy as np\n",
    "import pandas as pd\n",
    "from pandas import Series, DataFrame"
   ]
  },
  {
   "cell_type": "markdown",
   "metadata": {},
   "source": [
    "#### Загрузка данных"
   ]
  },
  {
   "cell_type": "code",
   "execution_count": null,
   "metadata": {},
   "outputs": [],
   "source": [
    "titanic_dataframe = pd.read_csv(\"data/titanic/train.csv\", index_col='PassengerId')"
   ]
  },
  {
   "cell_type": "markdown",
   "metadata": {},
   "source": [
    "#### Посмотреть на данные"
   ]
  },
  {
   "cell_type": "code",
   "execution_count": null,
   "metadata": {},
   "outputs": [],
   "source": [
    "titanic_dataframe.head()"
   ]
  },
  {
   "cell_type": "markdown",
   "metadata": {},
   "source": [
    "#### Обращение по названию столбца"
   ]
  },
  {
   "cell_type": "code",
   "execution_count": null,
   "metadata": {
    "scrolled": true
   },
   "outputs": [],
   "source": [
    "titanic_dataframe['Age']"
   ]
  },
  {
   "cell_type": "markdown",
   "metadata": {},
   "source": [
    "#### Обращение по номеру строки"
   ]
  },
  {
   "cell_type": "code",
   "execution_count": null,
   "metadata": {},
   "outputs": [],
   "source": [
    "titanic_dataframe.loc[1]"
   ]
  },
  {
   "cell_type": "markdown",
   "metadata": {},
   "source": [
    "#### Обращение по номеру столбца"
   ]
  },
  {
   "cell_type": "code",
   "execution_count": null,
   "metadata": {},
   "outputs": [],
   "source": [
    "titanic_dataframe.iloc[:, 0]"
   ]
  },
  {
   "cell_type": "markdown",
   "metadata": {},
   "source": [
    "## С какими данными работаем\n",
    "\n",
    "| Variable | Definition | Key |\n",
    "| ------------- |:-------------|: -----|\n",
    "| survival | Survival   | 0 = No, 1 = Yes | \n",
    "| pclass   | Ticket class | 1 = 1st, 2 = 2nd, 3 = 3rd |\n",
    "| sex | Sex | |\n",
    "| Age | Age in years | |\n",
    "| sibsp | # of siblings / spouses aboard the Titanic | |\n",
    "| parch | # of parents / children aboard the Titanic | |\n",
    "| ticket | Ticket number  | |\n",
    "| fare   | Passenger fare | |\n",
    "| cabin  | Cabin number | |\n",
    "| embarked | Port of Embarkation | C = Cherbourg, Q = Queenstown, S = Southampton |"
   ]
  },
  {
   "cell_type": "markdown",
   "metadata": {},
   "source": [
    "#### Информация по датафрэйму"
   ]
  },
  {
   "cell_type": "code",
   "execution_count": null,
   "metadata": {},
   "outputs": [],
   "source": [
    "titanic_dataframe.info()"
   ]
  },
  {
   "cell_type": "markdown",
   "metadata": {},
   "source": [
    "### Полезные функции\n",
    "\n",
    "Начнём с функции `map` она позволяет применить функцию к каждому элементу `Series`"
   ]
  },
  {
   "cell_type": "code",
   "execution_count": null,
   "metadata": {},
   "outputs": [],
   "source": [
    "# Например, давайте переведем столбец Sex из строки в boolean, 0 - male и 1 - female\n",
    "\n",
    "titanic_dataframe[\"Sex_bin\"] = titanic_dataframe[\"Sex\"].map(lambda x: 0 if x == \"male\" else 1)\n",
    "\n",
    "titanic_dataframe[[\"Sex\", \"Sex_bin\"]].head(5)"
   ]
  },
  {
   "cell_type": "markdown",
   "metadata": {},
   "source": [
    "Функция `sort_values` сортирует значения принимая порядок сортировки как аргумент `by`. Аргумент `ascending` при значении `True` отсортирует значения по возрастанию, если `False` - по убыванию"
   ]
  },
  {
   "cell_type": "code",
   "execution_count": null,
   "metadata": {},
   "outputs": [],
   "source": [
    "titanic_dataframe.sort_values(by=\"Age\", ascending=False).head(5)"
   ]
  },
  {
   "cell_type": "markdown",
   "metadata": {},
   "source": [
    "Функция `groupby` позволяет группировать данные применяя к ним функции агригации"
   ]
  },
  {
   "cell_type": "code",
   "execution_count": null,
   "metadata": {},
   "outputs": [],
   "source": [
    "# Давайте посмотрим средний возраст для каждого класса\n",
    "titanic_dataframe[[\"Pclass\", \"Age\"]].groupby(by=\"Pclass\").mean()"
   ]
  },
  {
   "cell_type": "markdown",
   "metadata": {},
   "source": [
    "### Задание\n",
    "\n",
    "Посчитать сколько пассажиров выжило в разрезе Пол,Класс"
   ]
  },
  {
   "cell_type": "code",
   "execution_count": null,
   "metadata": {},
   "outputs": [],
   "source": [
    "titanic_dataframe[[\"Sex\", \"Pclass\", \"Survived\"]].groupby(by=[\"Sex\", \"Pclass\"]).sum()"
   ]
  },
  {
   "cell_type": "markdown",
   "metadata": {},
   "source": [
    "### Анализ датасета Titanik"
   ]
  },
  {
   "cell_type": "code",
   "execution_count": null,
   "metadata": {},
   "outputs": [],
   "source": [
    "titanic_dataframe = pd.read_csv(\"data/titanic/train.csv\")\n",
    "\n",
    "# Начнем анализ с изучения столбцов и типов их значений\n",
    "titanic_dataframe.info()"
   ]
  },
  {
   "cell_type": "markdown",
   "metadata": {},
   "source": [
    "Тут мы видим, что поле Age содержит много пропусков."
   ]
  },
  {
   "cell_type": "markdown",
   "metadata": {},
   "source": [
    "#### Визуализация данных\n",
    "\n",
    "Давайте рассмотрим способы визуализации данных в Pandas.\n",
    "\n",
    "Первым делом построим гистограмму выживших"
   ]
  },
  {
   "cell_type": "code",
   "execution_count": null,
   "metadata": {},
   "outputs": [],
   "source": [
    "print(titanic_dataframe[\"Survived\"].value_counts())\n",
    "\n",
    "plot = titanic_dataframe[\"Survived\"].value_counts().plot(kind=\"bar\")\n",
    "plot.set_ylabel(\"Кол-во пассажиров\")\n",
    "plot.set_xlabel(\"0 - Умер, 1 - Выжил\")"
   ]
  },
  {
   "cell_type": "markdown",
   "metadata": {},
   "source": [
    "Оценим кол-во пассажиров в разных классах."
   ]
  },
  {
   "cell_type": "code",
   "execution_count": null,
   "metadata": {},
   "outputs": [],
   "source": [
    "plot = titanic_dataframe[\"Pclass\"].value_counts().sort_index().plot(kind=\"barh\")\n",
    "plot.set_xlabel(\"Кол-во пассажиров\")\n",
    "plot.set_ylabel(\"Класс\")"
   ]
  },
  {
   "cell_type": "markdown",
   "metadata": {},
   "source": [
    "Как можно заметить в 3-м классе больше всего пассажиров"
   ]
  },
  {
   "cell_type": "markdown",
   "metadata": {},
   "source": [
    "Теперь оценим кол-во выживших в разных классах"
   ]
  },
  {
   "cell_type": "code",
   "execution_count": null,
   "metadata": {},
   "outputs": [],
   "source": [
    "titanic_dataframe[[\"Pclass\", \"Survived\"]].groupby(by=\"Pclass\").sum()"
   ]
  },
  {
   "cell_type": "markdown",
   "metadata": {},
   "source": [
    "Как мы видим больше всего выжили тех, кто купил билет в 1-й класс."
   ]
  },
  {
   "cell_type": "markdown",
   "metadata": {},
   "source": [
    "Теперь оценим вероятность выжить в зависимости от класса."
   ]
  },
  {
   "cell_type": "code",
   "execution_count": null,
   "metadata": {},
   "outputs": [],
   "source": [
    "plot = titanic_dataframe[[\"Pclass\", \"Survived\"]].groupby(by=\"Pclass\").mean().Survived.plot(kind=\"bar\")\n",
    "plot.set_ylabel(r\"$P_{выж.}$\", fontsize= 20)\n",
    "plot.set_xlabel(\"№ класса\", fontsize = 20)"
   ]
  },
  {
   "cell_type": "markdown",
   "metadata": {},
   "source": [
    "Теперь проведем схожий анализ только для пола пассажиров. Для примера рассмотрим еще один тип графика, Pie. А так же параметры для более приятного отображения."
   ]
  },
  {
   "cell_type": "code",
   "execution_count": null,
   "metadata": {},
   "outputs": [],
   "source": [
    "\n",
    "plot = titanic_dataframe[\"Sex\"].value_counts().sort_index().plot (kind=\"pie\", \n",
    "                                                                 autopct = '%1.1f%%', # для вывода процентов\n",
    "                                                                 shadow = True, # добавляет тень\n",
    "                                                                 explode = (0.0,0.2) # дает отступ\n",
    "                                                                ) "
   ]
  },
  {
   "cell_type": "markdown",
   "metadata": {},
   "source": [
    "Оценим вероятность выжить для каждого пола."
   ]
  },
  {
   "cell_type": "code",
   "execution_count": null,
   "metadata": {},
   "outputs": [],
   "source": [
    "plot = titanic_dataframe[[\"Sex\", \"Survived\"]].groupby(by=\"Sex\").mean().plot.bar(legend = False)\n",
    "plot.set_ylabel(r\"$P_{выж.}$\", fontsize= 15)\n",
    "plot.set_xlabel(\"Пол\", fontsize = 15)"
   ]
  },
  {
   "cell_type": "markdown",
   "metadata": {},
   "source": [
    "### Задание\n",
    "\n",
    "Проанализировать на распределение и вероятность выживания поля Embarked (Порт поссадки пассажира), SibSp (Число братьев\\сестёр\\супругов), Parch (Кол-во детей\\родителей)"
   ]
  },
  {
   "cell_type": "code",
   "execution_count": null,
   "metadata": {},
   "outputs": [],
   "source": [
    "# Embarked dist"
   ]
  },
  {
   "cell_type": "code",
   "execution_count": null,
   "metadata": {},
   "outputs": [],
   "source": [
    "# Embarked Psurv"
   ]
  },
  {
   "cell_type": "code",
   "execution_count": null,
   "metadata": {},
   "outputs": [],
   "source": [
    "# Sibsp dist"
   ]
  },
  {
   "cell_type": "code",
   "execution_count": null,
   "metadata": {},
   "outputs": [],
   "source": [
    "# Sibsp Psurv"
   ]
  },
  {
   "cell_type": "code",
   "execution_count": null,
   "metadata": {},
   "outputs": [],
   "source": [
    "# Parch dist"
   ]
  },
  {
   "cell_type": "code",
   "execution_count": null,
   "metadata": {},
   "outputs": [],
   "source": [
    "# Parch Psurv"
   ]
  },
  {
   "cell_type": "markdown",
   "metadata": {},
   "source": [
    "Рассмотрим вспомогательную библиотеку `seaborn` (она основана на `matplotlib`) и позволяет быстрее строить более сложные графики"
   ]
  },
  {
   "cell_type": "code",
   "execution_count": null,
   "metadata": {},
   "outputs": [],
   "source": [
    "import seaborn as sns"
   ]
  },
  {
   "cell_type": "markdown",
   "metadata": {},
   "source": [
    "Для начала построим расспределение пассажиров по возрасту "
   ]
  },
  {
   "cell_type": "code",
   "execution_count": null,
   "metadata": {},
   "outputs": [],
   "source": [
    "plt.figure()\n",
    "sns.distplot(titanic_dataframe[titanic_dataframe.Survived == 1].Age, label = \"Выжили\")\n",
    "sns.distplot(titanic_dataframe[titanic_dataframe.Survived == 0].Age, label = \"Погибли\")\n",
    "plt.legend()\n",
    "plt.show()"
   ]
  },
  {
   "cell_type": "markdown",
   "metadata": {},
   "source": [
    "Теперь посмотрим расспределение для цены билета"
   ]
  },
  {
   "cell_type": "code",
   "execution_count": null,
   "metadata": {},
   "outputs": [],
   "source": [
    "plt.figure()\n",
    "sns.distplot(titanic_dataframe[titanic_dataframe.Survived == 1].Fare, label = \"Выжили\")\n",
    "sns.distplot(titanic_dataframe[titanic_dataframe.Survived == 0].Fare, label = \"Погибли\")\n",
    "plt.legend()\n",
    "plt.show()"
   ]
  },
  {
   "cell_type": "markdown",
   "metadata": {},
   "source": [
    "Теперь разделим цены на категории и оценим зависимости выживаемости для каждой категории "
   ]
  },
  {
   "cell_type": "code",
   "execution_count": null,
   "metadata": {},
   "outputs": [],
   "source": [
    "titanic_dataframe[\"Fare_cat\"] = pd.cut(titanic_dataframe[\"Fare\"], bins=[0,7.9,14.45,31.28,120], labels = [\"Low\", \"Mid\", \"High_Mid\", \"High\"])"
   ]
  },
  {
   "cell_type": "code",
   "execution_count": null,
   "metadata": {},
   "outputs": [],
   "source": [
    "plot = titanic_dataframe[[\"Fare_cat\", \"Survived\"]].groupby(by=\"Fare_cat\").mean().Survived.plot()\n",
    "plot.set_ylabel(r\"$P_{выж.}$\", fontsize= 20)\n",
    "plot.set_xlabel(\"Стоимость билета\", fontsize = 20)"
   ]
  },
  {
   "cell_type": "markdown",
   "metadata": {},
   "source": [
    "Как видим - зависимость прямая"
   ]
  },
  {
   "cell_type": "markdown",
   "metadata": {},
   "source": [
    "Теперь посмотрим в каком классе какой пол встречается чаще"
   ]
  },
  {
   "cell_type": "code",
   "execution_count": null,
   "metadata": {},
   "outputs": [],
   "source": [
    "sns.factorplot(\"Sex\", col = \"Pclass\", data = titanic_dataframe, kind = \"count\")"
   ]
  },
  {
   "cell_type": "markdown",
   "metadata": {},
   "source": [
    "Тоже самое сделаем для Порта посадки и класса пассажира"
   ]
  },
  {
   "cell_type": "code",
   "execution_count": null,
   "metadata": {},
   "outputs": [],
   "source": [
    "sns.factorplot(\"Pclass\", col = \"Embarked\", data = titanic_dataframe, kind = \"count\")"
   ]
  },
  {
   "cell_type": "markdown",
   "metadata": {},
   "source": [
    "### Задание\n",
    "\n",
    "Постройте такой же анализ для Порта посадки и Пола"
   ]
  },
  {
   "cell_type": "code",
   "execution_count": null,
   "metadata": {},
   "outputs": [],
   "source": [
    "### код тут"
   ]
  },
  {
   "cell_type": "markdown",
   "metadata": {},
   "source": [
    "Давайте переведем из строк в численные значения поля `Sex` и `Embarked`\n",
    "При помощи функции `apply` и `map`"
   ]
  },
  {
   "cell_type": "code",
   "execution_count": null,
   "metadata": {},
   "outputs": [],
   "source": [
    "titanic_dataframe[\"Sex\"] = titanic_dataframe[\"Sex\"].map(lambda x: 0 if x == \"male\" else 1)\n",
    "\n",
    "titanic_dataframe[\"Embarked\"] = titanic_dataframe[\"Embarked\"].map({\"C\": 0, \"Q\": 1, \"S\": 2})\n",
    "\n",
    "titanic_dataframe.head()"
   ]
  },
  {
   "cell_type": "markdown",
   "metadata": {},
   "source": [
    "Давайте объеденим признаки SibSp и Parch в один признак FamilyCount. Тут нам опять поможет функция `apply` "
   ]
  },
  {
   "cell_type": "code",
   "execution_count": null,
   "metadata": {},
   "outputs": [],
   "source": [
    "titanic_dataframe[\"FamilyCount\"] = titanic_dataframe[[\"SibSp\", \"Parch\"]].apply(lambda x: sum(x) + 1, axis = 1)\n",
    "\n",
    "titanic_dataframe.head(5)"
   ]
  },
  {
   "cell_type": "markdown",
   "metadata": {},
   "source": [
    "в завершении построим патрицу корреляций между всеми признаками. Коэффициент корреляции показывает зависимость между признаками. Чем ближе значение корреляции к -1 или 1 - тем больше зависимость, чем ближе к 0 - тем меньше зависимость"
   ]
  },
  {
   "cell_type": "code",
   "execution_count": null,
   "metadata": {},
   "outputs": [],
   "source": [
    "corr = titanic_dataframe.drop(columns=\"PassengerId\").corr()"
   ]
  },
  {
   "cell_type": "code",
   "execution_count": null,
   "metadata": {},
   "outputs": [],
   "source": [
    "plt.figure(figsize=(10,10))\n",
    "sns.heatmap(corr, cmap='flare', annot = True, linewidths = 0.3)"
   ]
  },
  {
   "cell_type": "markdown",
   "metadata": {},
   "source": [
    "### Pandas profiling"
   ]
  },
  {
   "cell_type": "markdown",
   "metadata": {},
   "source": [
    "Pandas profile - это удобный инструмет для построения автомотического отчета по данным в Pandas "
   ]
  },
  {
   "cell_type": "code",
   "execution_count": null,
   "metadata": {},
   "outputs": [],
   "source": [
    "import pandas_profiling, webbrowser\n",
    "\n",
    "profile = pandas_profiling.ProfileReport(titanic_dataframe)\n",
    "profile.to_file(\"data_profile.html\")\n",
    "\n",
    "# Открыть страницу в браузере\n",
    "_ = webbrowser.open_new_tab(\"data_profile.html\")"
   ]
  },
  {
   "cell_type": "markdown",
   "metadata": {},
   "source": [
    "### Подготовка датасета Titanik"
   ]
  },
  {
   "cell_type": "code",
   "execution_count": null,
   "metadata": {},
   "outputs": [],
   "source": [
    "# Удалим уникальные данные, которые не влияют на факт выживания\n",
    "\n",
    "titanic_df = pd.read_csv(\"data/titanic/train.csv\")\n",
    "\n",
    "cols = [\"Name\", \"Ticket\", \"Cabin\"]\n",
    "titanic_df = titanic_df.drop(columns=cols, axis = 1)\n",
    "\n",
    "titanic_df.info()"
   ]
  },
  {
   "cell_type": "markdown",
   "metadata": {},
   "source": [
    "Приведем признак Fare к категориальному разбив его на 4 промежутка"
   ]
  },
  {
   "cell_type": "code",
   "execution_count": null,
   "metadata": {},
   "outputs": [],
   "source": [
    "titanic_df[\"Fare_cat\"] = pd.cut(titanic_df[\"Fare\"], bins=[0,7.9,14.45,31.28,120], labels = [\"Low\", \"Mid\", \"High_Mid\", \"High\"])\n",
    "\n",
    "titanic_df = titanic_df.drop(columns=\"Fare\")"
   ]
  },
  {
   "cell_type": "markdown",
   "metadata": {},
   "source": [
    "Теперь давайте подготовим категориальные признаки (категориальными называют признаки имеющие конечное число значений. Например, тип класса или пол, их всего 3 или 2 соответственно.)"
   ]
  },
  {
   "cell_type": "code",
   "execution_count": null,
   "metadata": {},
   "outputs": [],
   "source": [
    "# определим категориальные признаки\n",
    "cat_columns = [\"Pclass\", \"Sex\", \"Embarked\", \"Fare_cat\"]\n",
    "cat_features = [pd.get_dummies(titanic_df[col]) for col in cat_columns]\n",
    "\n",
    "# Соединим полученные значения в одну таблицу. axis = 1 означает, что присоединяться будут столбцы\n",
    "cat_features = pd.concat(cat_features, axis=1)\n",
    "\n",
    "# Присоединим полученные данные к основной таблице\n",
    "titanic_df = pd.concat([titanic_df, cat_features], axis = 1)\n",
    "\n",
    "# Удалим оригиналы столбцов\n",
    "titanic_df = titanic_df.drop(columns=cat_columns, axis = 1)\n",
    "\n",
    "\n",
    "titanic_df.head(5)"
   ]
  },
  {
   "cell_type": "markdown",
   "metadata": {},
   "source": [
    "Следующим шагом заполним строки с пропущиными значениями NaN\n",
    "В практике, чаще всего, пропуски заполняют средним, промежуточным или наиболее часто встречающимся значением"
   ]
  },
  {
   "cell_type": "code",
   "execution_count": null,
   "metadata": {},
   "outputs": [],
   "source": [
    "# Найдем столбцы с пустыми значениями\n",
    "titanic_df.isna().sum()"
   ]
  },
  {
   "cell_type": "code",
   "execution_count": null,
   "metadata": {},
   "outputs": [],
   "source": [
    "# Заполним пропуски промежуточными значениями (при помощи линейной интерполяции)\n",
    "titanic_df[\"Age\"] = titanic_df[\"Age\"].interpolate(method=\"linear\")\n",
    "titanic_df.isna().sum()"
   ]
  },
  {
   "cell_type": "markdown",
   "metadata": {},
   "source": [
    "За альтернативу можно взять функцию `dropna`. Она позволяет удалить пропуски, но такой подход ведет к потери дрогоценных данных."
   ]
  },
  {
   "cell_type": "code",
   "execution_count": null,
   "metadata": {},
   "outputs": [],
   "source": [
    "titanic_df[\"Age\"] = titanic_df[\"Age\"].interpolate(method=\"linear\")"
   ]
  },
  {
   "cell_type": "markdown",
   "metadata": {},
   "source": [
    "Как сделали выше, создадим признак FamilyCount, которой является суммой признаков `SibSp` и `Parch`"
   ]
  },
  {
   "cell_type": "code",
   "execution_count": null,
   "metadata": {},
   "outputs": [],
   "source": [
    "titanic_df[\"FamilyCount\"] = titanic_df[\"SibSp\"] + titanic_df[\"Parch\"] + 1\n",
    "titanic_df = titanic_df.drop(columns=[\"SibSp\", \"Parch\"])"
   ]
  },
  {
   "cell_type": "markdown",
   "metadata": {},
   "source": [
    "## SkLearn"
   ]
  },
  {
   "cell_type": "markdown",
   "metadata": {},
   "source": [
    "Scikit-learn - один из наиболее широко используемых пакетов Python для Data Science и Machine Learning. Он позволяет выполнять множество операций и предоставляет множество алгоритмов. Scikit-learn также предлагает отличную документацию о своих классах, методах и функциях, а также описание используемых алгоритмов. "
   ]
  },
  {
   "cell_type": "markdown",
   "metadata": {},
   "source": [
    "## Скалирование и нормализация\n",
    "\n",
    "Вам часто нужно преобразовывать данные таким образом, чтобы среднее значение каждого столбца (элемента) было равно нулю, а стандартное отклонение - единице. В этом случае, можно использовать sklearn.preprocessing.StandardScaler:"
   ]
  },
  {
   "cell_type": "code",
   "execution_count": null,
   "metadata": {},
   "outputs": [],
   "source": [
    "X = titanic_df.drop(columns=[\"PassengerId\", \"Survived\"]).values\n",
    "Y = titanic_df[\"Survived\"]"
   ]
  },
  {
   "cell_type": "code",
   "execution_count": null,
   "metadata": {},
   "outputs": [],
   "source": [
    "from sklearn.preprocessing import StandardScaler\n",
    "scaler = StandardScaler()\n",
    "scaled_x = scaler.fit_transform(X)\n",
    "scaler.scale_"
   ]
  },
  {
   "cell_type": "code",
   "execution_count": null,
   "metadata": {},
   "outputs": [],
   "source": [
    "scaler.mean_"
   ]
  },
  {
   "cell_type": "code",
   "execution_count": null,
   "metadata": {},
   "outputs": [],
   "source": [
    "scaler.var_"
   ]
  },
  {
   "cell_type": "code",
   "execution_count": null,
   "metadata": {},
   "outputs": [],
   "source": [
    "scaled_x[0], x[0]"
   ]
  },
  {
   "cell_type": "markdown",
   "metadata": {},
   "source": [
    "### Более сложный препроцессинг"
   ]
  },
  {
   "cell_type": "markdown",
   "metadata": {},
   "source": [
    "Рассмотрим пример более сложной обработки данных. Например оператор HOG. Он позволяет получить гистограммы ориентированных градиентов для изображения. Такой метод обработки изображений часто используется в задачах компьютерного зрения"
   ]
  },
  {
   "cell_type": "code",
   "execution_count": null,
   "metadata": {},
   "outputs": [],
   "source": [
    "from skimage.feature import hog\n",
    "from skimage import data, exposure\n",
    "\n",
    "image = data.astronaut()\n",
    "\n",
    "fd, hog_image = hog(image, orientations=8, pixels_per_cell=(16, 16),\n",
    "                    cells_per_block=(1, 1), visualize=True)\n",
    "\n",
    "fig, (ax1, ax2) = plt.subplots(1, 2, figsize=(8, 4), sharex=True, sharey=True)\n",
    "\n",
    "ax1.axis('off')\n",
    "ax1.imshow(image)\n",
    "ax1.set_title('Input image')\n",
    "\n",
    "hog_image_rescaled = exposure.rescale_intensity(hog_image, in_range=(0, 10))\n",
    "\n",
    "ax2.axis('off')\n",
    "ax2.imshow(hog_image_rescaled, cmap=plt.cm.gray)\n",
    "ax2.set_title('Histogram of Oriented Gradients')\n",
    "plt.show()"
   ]
  }
 ],
 "metadata": {
  "kernelspec": {
   "display_name": "Python 3",
   "language": "python",
   "name": "python3"
  },
  "language_info": {
   "codemirror_mode": {
    "name": "ipython",
    "version": 3
   },
   "file_extension": ".py",
   "mimetype": "text/x-python",
   "name": "python",
   "nbconvert_exporter": "python",
   "pygments_lexer": "ipython3",
   "version": "3.8.5"
  }
 },
 "nbformat": 4,
 "nbformat_minor": 2
}
