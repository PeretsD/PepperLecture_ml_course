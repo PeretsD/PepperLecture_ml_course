{
 "cells": [
  {
   "cell_type": "markdown",
   "id": "34127188",
   "metadata": {},
   "source": [
    "# Метрики качества классификации\n",
    "\n",
    "Мы очень много говорили про то, что оценка качества класиификатора не ограничивается только долей верно спрогнозированных меток. Настало время детально разобрать как же именно можно оценивать качество работы классификаторов.\n",
    "\n",
    "Данные для иллюстрации взяты из **Kaggle** соревнования [Give me some credit](https://www.kaggle.com/c/GiveMeSomeCredit#description)"
   ]
  },
  {
   "cell_type": "markdown",
   "id": "32ac5d72",
   "metadata": {},
   "source": [
    "## Импорт библиотек"
   ]
  },
  {
   "cell_type": "code",
   "execution_count": null,
   "id": "b93e65e3",
   "metadata": {
    "_cell_guid": "cfdaacbc-23a3-423d-8d4d-120939ac7383"
   },
   "outputs": [],
   "source": [
    "import pandas as pd\n",
    "import numpy as np\n",
    "from sklearn.tree import DecisionTreeClassifier\n",
    "\n",
    "import matplotlib.pyplot as plt\n",
    "import seaborn as sns\n",
    "\n",
    "from sklearn.metrics import confusion_matrix\n",
    "from sklearn.metrics import roc_curve\n",
    "from sklearn.metrics import precision_recall_curve\n",
    "from sklearn.model_selection import GridSearchCV\n",
    "from sklearn.metrics import average_precision_score\n",
    "from sklearn.metrics import fbeta_score\n",
    "from sklearn.metrics import f1_score\n",
    "from sklearn.metrics import auc\n",
    "from sklearn.metrics import accuracy_score\n",
    "\n",
    "from sklearn.dummy import DummyClassifier\n",
    "\n",
    "sns.set_style('whitegrid')\n",
    "%matplotlib inline"
   ]
  },
  {
   "cell_type": "markdown",
   "id": "9a30b578",
   "metadata": {},
   "source": [
    "## Загрузка данных"
   ]
  },
  {
   "cell_type": "code",
   "execution_count": null,
   "id": "a1cc80be",
   "metadata": {
    "_cell_guid": "3ab4c525-a5cb-4183-9468-c1dd005c4c78"
   },
   "outputs": [],
   "source": [
    "training_data = pd.read_csv('data/training_data.csv')\n",
    "test_data = pd.read_csv('data/test_data.csv')"
   ]
  },
  {
   "cell_type": "code",
   "execution_count": null,
   "id": "f98a0c5b",
   "metadata": {},
   "outputs": [],
   "source": [
    "training_data.info(verbose=True)"
   ]
  },
  {
   "cell_type": "code",
   "execution_count": null,
   "id": "f9cc50e7",
   "metadata": {},
   "outputs": [],
   "source": [
    "training_data.keys()"
   ]
  },
  {
   "cell_type": "code",
   "execution_count": null,
   "id": "a0e6b3be",
   "metadata": {},
   "outputs": [],
   "source": [
    "training_data.describe().T"
   ]
  },
  {
   "cell_type": "markdown",
   "id": "e87506b2",
   "metadata": {},
   "source": [
    "### Обработка пропущенных значений"
   ]
  },
  {
   "cell_type": "markdown",
   "id": "870fa60d",
   "metadata": {},
   "source": [
    "Проверим данные на пропуски. При наличии пропусков в датасете есть 2 пути: выкинуть данные, где есть пропуски и заполнить пропущенные значения. Убирать прецеденты с пропусками стоит только если относительно небольшая доля наблюдений имеет пропуски. Пропуски в данных можно заполнять разными методами:\n",
    "- выборочной статистикой (среднее, медиана)\n",
    "- прогнозами регрессии по известным признакам\n",
    "\n",
    "Посмотрим на количество пропусков в данных"
   ]
  },
  {
   "cell_type": "code",
   "execution_count": null,
   "id": "8fab4d07",
   "metadata": {},
   "outputs": [],
   "source": [
    "training_data.isna().sum()"
   ]
  },
  {
   "cell_type": "code",
   "execution_count": null,
   "id": "49f5aaf5",
   "metadata": {},
   "outputs": [],
   "source": [
    "test_data.isna().sum()"
   ]
  },
  {
   "cell_type": "markdown",
   "id": "13a19028",
   "metadata": {},
   "source": [
    "Пропуски есть только в столбце `MonthlyIncome` и составляют около 20% и в `NumberOfDependents`. Заполним значения медианой на обучающей выборке."
   ]
  },
  {
   "cell_type": "code",
   "execution_count": null,
   "id": "1d85761a",
   "metadata": {},
   "outputs": [],
   "source": [
    "train_median = training_data.median()"
   ]
  },
  {
   "cell_type": "code",
   "execution_count": null,
   "id": "a8733afc",
   "metadata": {},
   "outputs": [],
   "source": [
    "training_data.fillna(train_median, inplace=True)\n",
    "\n",
    "test_data.fillna(train_median, inplace=True)"
   ]
  },
  {
   "cell_type": "markdown",
   "id": "36eac2c9",
   "metadata": {},
   "source": [
    "Убедимся, что пропусков больше нет."
   ]
  },
  {
   "cell_type": "code",
   "execution_count": null,
   "id": "335a5783",
   "metadata": {
    "scrolled": true
   },
   "outputs": [],
   "source": [
    "print(training_data.isna().sum())"
   ]
  },
  {
   "cell_type": "code",
   "execution_count": null,
   "id": "8d0949b1",
   "metadata": {},
   "outputs": [],
   "source": [
    "print(test_data.isna().sum())"
   ]
  },
  {
   "cell_type": "markdown",
   "id": "e8483ef6",
   "metadata": {},
   "source": [
    "### Обработка аномальных значений\n",
    "\n",
    "По `describe` видно, что есть записи, у которых `MonthlyIncome` и `DebtRatio` в области максимальных значений значительно отличаются от общего датасета. Отсечем точки, которые находятся за 99 квантилем."
   ]
  },
  {
   "cell_type": "code",
   "execution_count": null,
   "id": "b58cf517",
   "metadata": {},
   "outputs": [],
   "source": [
    "training_data = training_data[training_data['MonthlyIncome'] < training_data['MonthlyIncome'].quantile(0.99)]\n",
    "training_data = training_data[training_data['DebtRatio'] < training_data['DebtRatio'].quantile(0.99)]\n",
    "training_data = training_data[training_data['RevolvingUtilizationOfUnsecuredLines'] < training_data['RevolvingUtilizationOfUnsecuredLines'].quantile(0.99)]"
   ]
  },
  {
   "cell_type": "code",
   "execution_count": null,
   "id": "41b89bfb",
   "metadata": {},
   "outputs": [],
   "source": [
    "test_data = test_data[test_data['MonthlyIncome'] < test_data['MonthlyIncome'].quantile(0.99)]\n",
    "test_data = test_data[test_data['DebtRatio'] < test_data['DebtRatio'].quantile(0.99)]\n",
    "test_data = test_data[test_data['RevolvingUtilizationOfUnsecuredLines'] < test_data['RevolvingUtilizationOfUnsecuredLines'].quantile(0.99)]"
   ]
  },
  {
   "cell_type": "markdown",
   "id": "e281e1fb",
   "metadata": {},
   "source": [
    "Сравним распределения данных между наборами. К сожалению, без дополнительного \"кода\"\n",
    "наложить гистограммы друг на друга пока нельзя."
   ]
  },
  {
   "cell_type": "markdown",
   "id": "320676e4",
   "metadata": {},
   "source": [
    "Визуализируем матрицу корреляций"
   ]
  },
  {
   "cell_type": "code",
   "execution_count": null,
   "id": "898fd936",
   "metadata": {},
   "outputs": [],
   "source": [
    "plt.figure(figsize=(15,12))\n",
    "sns.heatmap(training_data.corr(), annot=True);"
   ]
  },
  {
   "cell_type": "code",
   "execution_count": null,
   "id": "3b5e51e2",
   "metadata": {},
   "outputs": [],
   "source": [
    "sns.pairplot(training_data,hue='SeriousDlqin2yrs',palette='Dark2');"
   ]
  },
  {
   "cell_type": "code",
   "execution_count": null,
   "id": "27716021",
   "metadata": {},
   "outputs": [],
   "source": [
    "training_data.keys()"
   ]
  },
  {
   "cell_type": "code",
   "execution_count": null,
   "id": "bfcde15b",
   "metadata": {},
   "outputs": [],
   "source": [
    "hist_list = ['SeriousDlqin2yrs', 'age', 'DebtRatio', 'MonthlyIncome']\n",
    "\n",
    "for idx in hist_list:\n",
    "    plt.figure(figsize=(8,6));\n",
    "    sns.histplot(training_data[idx],color='r');\n",
    "    sns.histplot(test_data[idx],color='b');\n",
    "    plt.legend(['train','test']);\n",
    "    plt.show()"
   ]
  },
  {
   "cell_type": "markdown",
   "id": "2f9bfa60",
   "metadata": {},
   "source": [
    "Проверим данные на сбалансированность классов."
   ]
  },
  {
   "cell_type": "code",
   "execution_count": null,
   "id": "52a21112",
   "metadata": {},
   "outputs": [],
   "source": [
    "training_data[\"SeriousDlqin2yrs\"].value_counts()"
   ]
  },
  {
   "cell_type": "code",
   "execution_count": null,
   "id": "eacd8091",
   "metadata": {},
   "outputs": [],
   "source": [
    "test_data[\"SeriousDlqin2yrs\"].value_counts()"
   ]
  },
  {
   "cell_type": "markdown",
   "id": "b2174cba",
   "metadata": {},
   "source": [
    "Класс отсутствия доминирует в обучающем и тестовом датасетах. Это и логично, пользователи чаще все же возвращают кредиты, чем не возвращают."
   ]
  },
  {
   "cell_type": "markdown",
   "id": "b5bf4b02",
   "metadata": {},
   "source": [
    "## Обучение модели"
   ]
  },
  {
   "cell_type": "code",
   "execution_count": null,
   "id": "87617bb3",
   "metadata": {},
   "outputs": [],
   "source": [
    "X_train = training_data.drop(\"SeriousDlqin2yrs\", axis=1)\n",
    "y_train = training_data[\"SeriousDlqin2yrs\"]\n",
    "\n",
    "X_test = test_data.drop(\"SeriousDlqin2yrs\", axis=1)\n",
    "y_test = test_data[\"SeriousDlqin2yrs\"]"
   ]
  },
  {
   "cell_type": "markdown",
   "id": "dd243de6",
   "metadata": {},
   "source": [
    "Построим дерево решений, классифицирующее наличие просроченной задолженности на обучающей выборке."
   ]
  },
  {
   "cell_type": "code",
   "execution_count": null,
   "id": "df2c87a6",
   "metadata": {},
   "outputs": [],
   "source": [
    "# настроим сетку параметров для GridSearch\n",
    "param_grid = {'criterion': ['gini', 'entropy'],\n",
    "             'min_samples_split' : [3,5,8,10],\n",
    "             'min_samples_leaf': [1,3,5,7],\n",
    "             'max_depth': [3,4,5,6,7,8]\n",
    "}\n",
    "\n",
    "Dtree = DecisionTreeClassifier(max_features='auto', random_state=22)\n",
    "\n",
    "clf = GridSearchCV(Dtree, param_grid=param_grid, cv = 10, n_jobs=-1, return_train_score = False)\n",
    "clf.fit(X_train, y_train)\n",
    "\n",
    "# Выведем параметры лучшей модели\n",
    "clf.best_estimator_"
   ]
  },
  {
   "cell_type": "code",
   "execution_count": null,
   "id": "0e82d249",
   "metadata": {},
   "outputs": [],
   "source": [
    "# для простоты работы создадим отдельно модель Decision Tree\n",
    "\n",
    "Dtree = DecisionTreeClassifier(max_depth=4, max_features='auto', min_samples_leaf=7,\n",
    "                       min_samples_split=3, random_state=22)\n",
    "\n",
    "Dtree.fit(X_train, y_train)"
   ]
  },
  {
   "cell_type": "markdown",
   "id": "f93b463d",
   "metadata": {},
   "source": [
    "Посмотрим на точность классификации"
   ]
  },
  {
   "cell_type": "code",
   "execution_count": null,
   "id": "91394422",
   "metadata": {},
   "outputs": [],
   "source": [
    "print(\"Обучающая выборка:\")\n",
    "print(\"\\tТочность:\\t%.2f%%\" % (100 * Dtree.score(X_train, y_train)))\n",
    "print(\"\\tМеток `0`:\\t%.2f%%\" % (100 - 100 * np.mean(y_train)))\n",
    "print()\n",
    "\n",
    "print(\"Тестовая выборка:\")\n",
    "print(\"\\tТочность:\\t%.2f%%\" % (100 * Dtree.score(X_test, y_test)))\n",
    "print(\"\\tМеток `0`:\\t%.2f%%\" % (100 - 100 * np.mean(y_test)))"
   ]
  },
  {
   "cell_type": "markdown",
   "id": "bdfbf5b4",
   "metadata": {},
   "source": [
    "Точность определения класса `0` почти не отличается от доли класса `0`. Вероятнее всего, модель не смогла выделить закономерности в данных и просто прогнозирует метки в соответствии с их частотой появления."
   ]
  },
  {
   "cell_type": "code",
   "execution_count": null,
   "id": "5457f727",
   "metadata": {},
   "outputs": [],
   "source": [
    "train_pred = Dtree.predict(X_train)\n",
    "test_pred = Dtree.predict(X_test)\n",
    "\n",
    "print(pd.Series(test_pred).value_counts())\n",
    "print(test_data['SeriousDlqin2yrs'].value_counts())"
   ]
  },
  {
   "cell_type": "markdown",
   "id": "ffe69908",
   "metadata": {},
   "source": [
    "Посмотрим на распределение предсказанной классификатором вероятности метки `1`."
   ]
  },
  {
   "cell_type": "code",
   "execution_count": null,
   "id": "c48ff754",
   "metadata": {},
   "outputs": [],
   "source": [
    "train_prob = Dtree.predict_proba(X_train)[:, 1]\n",
    "test_prob = Dtree.predict_proba(X_test)[:, 1]\n",
    "\n",
    "fig, ax = plt.subplots(figsize=(7, 7))\n",
    "\n",
    "ax.set_xlabel('Вероятность метки 1 по модели')\n",
    "ax.set_ylabel('Вероятность')\n",
    "\n",
    "sns.kdeplot(test_prob, color='black')\n",
    "ax.axvline(0.5, color=\"red\", alpha=0.5);"
   ]
  },
  {
   "cell_type": "code",
   "execution_count": null,
   "id": "7cf97fdb",
   "metadata": {},
   "outputs": [],
   "source": [
    "print(f'Только {test_prob[test_prob>0.5].shape[0]} точек с вероятностью больше 0.5')"
   ]
  },
  {
   "cell_type": "markdown",
   "id": "58a9912a",
   "metadata": {},
   "source": [
    "## Таблица сопряжённости классификатора"
   ]
  },
  {
   "cell_type": "markdown",
   "id": "a6e04fa3",
   "metadata": {},
   "source": [
    "Таблица сопряжённости (`матрица неточности`, или `Confusion matrix`) содержит сводные показатели качества работы классификатора.\n",
    "\n",
    "В задачах бинарной классификации один класс называется положительным (тот, на который мы ориентируемся), второй класс негативный.\n",
    "\n",
    "Общий смысл confusion matrix:\n",
    "\n",
    "|         |  Прогноз `0` |  Прогноз `1` |\n",
    "|---------|--------------|--------------|\n",
    "|Факт `0` |       TN     |       FP     |\n",
    "|Факт `1` |       FN     |       TP     | \n",
    "\n",
    "**TP** — **true positive:** классификатор верно отнёс объект к *положительному* классу.\n",
    "\n",
    "**TN** — **true negative:** классификатор верно отнес объект не к *положительному* классу.\n",
    "\n",
    "**FP** — **false positive:** классификатор неверно отнёс объект к *положительному* классу.\n",
    "\n",
    "**FN** — **false negative:** классификатор неверно отнес объект не к рассматриваемому классу.\n",
    "    \n",
    "Посчитаем матрицу для нашего примера"
   ]
  },
  {
   "cell_type": "code",
   "execution_count": null,
   "id": "a807f5f3",
   "metadata": {
    "scrolled": true
   },
   "outputs": [],
   "source": [
    "conf_matrix = pd.DataFrame(confusion_matrix(y_test, test_pred))\n",
    "conf_matrix"
   ]
  },
  {
   "cell_type": "code",
   "execution_count": null,
   "id": "581ea53a",
   "metadata": {},
   "outputs": [],
   "source": [
    "tn, fp, fn, tp = conf_matrix.values.ravel()"
   ]
  },
  {
   "cell_type": "markdown",
   "id": "b3c3c990",
   "metadata": {},
   "source": [
    "Если сравниваются метрики на разных наборах тестовых данных, то обращают\n",
    "внимание на доли истинно и ложно позитивных срабатываний классификатора:\n",
    "\n",
    "* Доля ложно позитивных срабатываний $FPR = \\frac{FP}{FP + TN}$;"
   ]
  },
  {
   "cell_type": "code",
   "execution_count": null,
   "id": "0ce1f5ec",
   "metadata": {},
   "outputs": [],
   "source": [
    "np.round(fp / (fp + tn),3)"
   ]
  },
  {
   "cell_type": "markdown",
   "id": "27ef4f49",
   "metadata": {},
   "source": [
    "* Доля истинно позитивных срабатываний $TPR = \\frac{TP}{TP + FN}$."
   ]
  },
  {
   "cell_type": "code",
   "execution_count": null,
   "id": "e86ddff2",
   "metadata": {},
   "outputs": [],
   "source": [
    "np.round(tp / (tp + fn),3)"
   ]
  },
  {
   "cell_type": "markdown",
   "id": "16592a8e",
   "metadata": {},
   "source": [
    "## ROC кривая классификатора\n",
    "\n",
    "ROC - Receiver Operating Characteristic\n",
    "\n",
    "Она наглядно показывает зависимость доли истинно позитивных срабатываний TPR от доли ложно позитивных срабатываний FPR при изменении порога классификации.\n",
    "\n",
    "Классификаторы почти всегда строятся на основе некоторой пороговой функции $f(X) \\in \\mathbb{R}$ и порога $\\tau$:\n",
    "$$\n",
    "    \\text{model}\\bigl(\\text{X}\\bigr)\n",
    "        = \\begin{cases}\n",
    "            1 & \\text{if }\\, f(\\text{X}) \\geq \\tau\\,,\\\\\n",
    "            0 & \\text{else}\\,.\n",
    "        \\end{cases}\n",
    "$$"
   ]
  },
  {
   "cell_type": "code",
   "execution_count": null,
   "id": "872019e8",
   "metadata": {},
   "outputs": [],
   "source": [
    "false_positive_rates, true_positive_rates, threshold = roc_curve(y_test, test_prob)"
   ]
  },
  {
   "cell_type": "markdown",
   "id": "64a6d5b4",
   "metadata": {},
   "source": [
    "Нарисуем кривую"
   ]
  },
  {
   "cell_type": "code",
   "execution_count": null,
   "id": "c6c4bb1a",
   "metadata": {},
   "outputs": [],
   "source": [
    "# создаём график\n",
    "fig = plt.figure(figsize=(7, 7))\n",
    "\n",
    "plot = fig.add_subplot(xlabel=\"FPR\", ylabel=\"TPR\", )\n",
    "\n",
    "plot.plot(false_positive_rates, true_positive_rates,\n",
    "          color='blue', lw=2)\n",
    "plot.plot([0, 1], [0, 1], color='green', lw=2, linestyle=':');"
   ]
  },
  {
   "cell_type": "markdown",
   "id": "e1a378ab",
   "metadata": {},
   "source": [
    "Исходя из логики построения этого графика, чем ближе кривая ROC к левому верхнему углу, тем лучше качество классификации. Но мы привыкли, что оптимизировать необходимо одну переменную, а с графиком так и вообще работать невозможно. Поэтому существует обобщающая метрика ROC-AUC, которая является площадью под кривой. (AUC - Area Under Curve).\n",
    "Посчитаем **ROC-AUC** для тестового и обучающего набора данных."
   ]
  },
  {
   "cell_type": "code",
   "execution_count": null,
   "id": "3f7632a7",
   "metadata": {},
   "outputs": [],
   "source": [
    "roc_auc = auc(false_positive_rates, true_positive_rates)\n",
    "print(\"ROC-AUC тестовая выборка:\", np.round(roc_auc,3))\n",
    "\n",
    "training_false_positive_rates, training_true_positive_rates, _ = roc_curve(y_train, train_prob)\n",
    "training_roc_auc = auc(training_false_positive_rates, training_true_positive_rates)\n",
    "\n",
    "print(\"ROC-AUC обучающая выборка:\", np.round(training_roc_auc,3))"
   ]
  },
  {
   "cell_type": "markdown",
   "id": "5bca7e6e",
   "metadata": {},
   "source": [
    "Типичная шкала для **ROC-AUC**:\n",
    "- **0.90 - 1.00 отлично**\n",
    "- **0.85 - 0.95 хорошо**\n",
    "- 0.75 - 0.85 удовлетворительно\n",
    "- 0.60 - 0.75 плохо\n",
    "- 0.50 - 0.60 очень плохо\n",
    "- 0.00 - 0.50 ошибка"
   ]
  },
  {
   "cell_type": "markdown",
   "id": "4d709c32",
   "metadata": {},
   "source": [
    "Ситуация, когда метрика на тестовой выборке ниже, чем на обучающей почти всегда присутствует, но когда сильное отличие в этих метриках, то говорят про переобучение модели, т.е. сильную подстройку под обучающие данные.\n",
    "\n",
    "Визуализируем результаты."
   ]
  },
  {
   "cell_type": "code",
   "execution_count": null,
   "id": "21e83f56",
   "metadata": {},
   "outputs": [],
   "source": [
    "plt.figure(figsize=(7, 7))\n",
    "\n",
    "plt.plot(training_false_positive_rates, training_true_positive_rates, color='red',\n",
    "         label='ROC-кривая на обучающих данных (AUC = %0.3f)' % training_roc_auc)\n",
    "\n",
    "plt.plot(false_positive_rates, true_positive_rates, color='green', \n",
    "         label='ROC-кривая на тестовых данных (AUC = %0.3f)' % roc_auc)\n",
    "\n",
    "plt.plot([0, 1], [0, 1], color='black', linestyle='--')\n",
    "\n",
    "plt.xlabel('Частота ложных срабатываний')\n",
    "plt.ylabel('Частота истинных срабатываний')"
   ]
  },
  {
   "cell_type": "markdown",
   "id": "e62d55cb",
   "metadata": {},
   "source": [
    "## Точность и полнота"
   ]
  },
  {
   "cell_type": "markdown",
   "id": "10fd2606",
   "metadata": {},
   "source": [
    "Метрики \"Точность\" (*Precision*) и \"Полнота\" (*Recall*) позволяют по-другому взглянуть на качество работы классификатора."
   ]
  },
  {
   "cell_type": "markdown",
   "id": "f2a7d5db",
   "metadata": {},
   "source": [
    "|                   |  Предсказано `0` |  Предсказано `1` |\n",
    "|-------------------|------------------|------------------|\n",
    "|**Фактически** `0` |       TN         |       FP         |\n",
    "|**Фактически** `1` |       FN         |       TP         | "
   ]
  },
  {
   "cell_type": "markdown",
   "id": "51d1b8d3",
   "metadata": {},
   "source": [
    "Несмотря на то, что в Английском языке слова **accuracy** и **precision** близкие синонимы, они соответствуют принципиально разными метрикам."
   ]
  },
  {
   "cell_type": "code",
   "execution_count": null,
   "id": "ff16b1be",
   "metadata": {},
   "outputs": [],
   "source": [
    "accuracy = (tp + tn) / (tp + fp + fn + tn)\n",
    "print(\"Точность: {:.2%}\".format(accuracy))"
   ]
  },
  {
   "cell_type": "markdown",
   "id": "4947afe5",
   "metadata": {},
   "source": [
    "Точность классификатора (**Precision**) \n",
    "\n",
    "$$\\frac{TP}{TP + FP}$$\n",
    "\n",
    "- отражает насколько разборчиво классификатор присваивает метки положительного класса `1`\n",
    "- чем выше, тем \"реже\" объекты, помеченные как `1`, являются на самом деле примерами из класса `0`"
   ]
  },
  {
   "cell_type": "code",
   "execution_count": null,
   "id": "b21470ba",
   "metadata": {},
   "outputs": [],
   "source": [
    "precision = tp / (tp + fp)\n",
    "\n",
    "print(\"Точность: {:.2%}\".format(precision))"
   ]
  },
  {
   "cell_type": "markdown",
   "id": "cdebc621",
   "metadata": {},
   "source": [
    "Полнота, **Recall**, классификатора равна доли истинно положительных срабатываний **TPR**\n",
    "\n",
    "$$\\frac{TP}{TP + FN}$$\n",
    "\n",
    "- \"чувствительность\" классификатора к объектам положительного\n",
    "- чем ближе к $1$, тем реже классификатор \"пропускает\" положительный объект"
   ]
  },
  {
   "cell_type": "code",
   "execution_count": null,
   "id": "494cfa28",
   "metadata": {},
   "outputs": [],
   "source": [
    "recall = tp / (tp + fn)\n",
    "\n",
    "print(\"Полнота: {:.2%}\".format(recall))"
   ]
  },
  {
   "cell_type": "markdown",
   "id": "f0640440",
   "metadata": {},
   "source": [
    "Если у классификатора\n",
    "* высокая полнота, но низкая точность -- срабатывает очень часто, однако при этом большинство результатов ошибочны\n",
    "  - много ложных срабатываний\n",
    "* низкая полнота, но высокая точность -- срабатывает достаточно редко, но при этом почти безошибочно определяет объекты класса `1`\n",
    "  - много пропущенных объектов"
   ]
  },
  {
   "cell_type": "markdown",
   "id": "ac40339e",
   "metadata": {},
   "source": [
    "### Кривая precision-recall\n",
    "\n",
    "В пространстве **precision-recall** можно построить кривую, аналогичную **ROC**-кривой в пространстве **fpr-tpr**."
   ]
  },
  {
   "cell_type": "code",
   "execution_count": null,
   "id": "e2260944",
   "metadata": {},
   "outputs": [],
   "source": [
    "precision, recall, i = precision_recall_curve(y_test, test_prob)"
   ]
  },
  {
   "cell_type": "markdown",
   "id": "ac634ec8",
   "metadata": {},
   "source": [
    "Нарисуем кривые."
   ]
  },
  {
   "cell_type": "code",
   "execution_count": null,
   "id": "01ffd083",
   "metadata": {},
   "outputs": [],
   "source": [
    "plt.figure(figsize=(7, 7))\n",
    "line_width = 2\n",
    "\n",
    "plt.plot(training_precision, training_recall, color='green',\n",
    "         lw=line_width, label='Кривая PR на обучающих данных (area = %0.2f)' % training_pr_auc)\n",
    "\n",
    "plt.plot(precision, recall, color='red',\n",
    "         lw=line_width, label='Кривая PR на тестовых данных (AUC = %0.2f)' % pr_auc)\n",
    "\n",
    "plt.xlim(-0.01, 1.01)\n",
    "plt.ylim(-0.01, 1.01)\n",
    "\n",
    "plt.xlabel('Полнота')\n",
    "plt.ylabel('Точность')\n",
    "plt.legend(loc=\"upper right\")\n",
    "\n",
    "plt.show()"
   ]
  },
  {
   "cell_type": "markdown",
   "id": "3b01a171",
   "metadata": {},
   "source": [
    "Чем ближе кривая **PR** к **правому верхнему** углу тем лучше качество классификации."
   ]
  },
  {
   "cell_type": "markdown",
   "id": "9e492dda",
   "metadata": {},
   "source": [
    "Большая площадь под кривой отражает высокие метрики точности и полноты,\n",
    "что означает низкое число ложных срабатываний, и низкое число пропущенных\n",
    "объектов интересующего нас класса `1`."
   ]
  },
  {
   "cell_type": "markdown",
   "id": "3b650805",
   "metadata": {},
   "source": [
    "## $F_\\beta$ метрика"
   ]
  },
  {
   "cell_type": "markdown",
   "id": "1d17119e",
   "metadata": {},
   "source": [
    "В общем случае $F_\\beta$ рассчитывается как \n",
    "$$ F_\\beta\n",
    "    = (1 + \\beta^2)\n",
    "        \\frac{\\text{Precision} \\cdot \\text{Recall}}\n",
    "             {\\beta^2 \\, \\text{Precision} + \\text{Recall}}\n",
    "    = \\frac{1 + \\beta^2}{\\frac{\\beta^2}{\\text{Recall}} + \\frac{1}{\\text{Precision}}}\n",
    "    = \\frac{\\beta + \\beta^{-1}}{\\beta\\frac{1}{\\text{Recall}} + \\beta^{-1}\\frac{1}{\\text{Precision}}}\n",
    "    \\,.\n",
    "$$"
   ]
  },
  {
   "cell_type": "markdown",
   "id": "c98ac409",
   "metadata": {},
   "source": [
    "Самая часто используемая метрика -- это $F_1$, которая равна среднему гармоническому точности и полноты\n",
    "$$\n",
    "    F_1 = 2 \\frac{\\text{Precision} \\cdot \\text{Recall}}{\\text{Precision} + \\text{Recall}}\n",
    "\\,. $$"
   ]
  },
  {
   "cell_type": "markdown",
   "id": "7d9dd4ef",
   "metadata": {},
   "source": [
    "* Среднее гармоническое используется для того, чтобы значения метрики на парах с точностью или полнотой близкой к нулю были очень низкими\n",
    "\n",
    "* Помимо самих значений точности и полноты, метрика $F_\\beta$ также учитывает баланс между ними\n",
    "  - чем выше **precision** и **recall** и чем ближе они друг к другу, тем выше значение $F_1$ и наоборот\n",
    "  \n",
    "* метрика $F_1$ не отражает качество работы классификатора на истинно отрицательных результатах (**TN**)"
   ]
  },
  {
   "cell_type": "code",
   "execution_count": null,
   "id": "67384803",
   "metadata": {},
   "outputs": [],
   "source": [
    "print(f'F1-метрика train {np.round(f1_score(y_train, train_pred),3)}')\n",
    "print(f'F1-метрика test {np.round(f1_score(y_test, test_pred),3)}')"
   ]
  },
  {
   "cell_type": "markdown",
   "id": "627db903",
   "metadata": {},
   "source": [
    "Метрика $F_\\beta$ хорошо применима для несбалансированной классификации"
   ]
  },
  {
   "cell_type": "markdown",
   "id": "7cb5c735",
   "metadata": {},
   "source": [
    "Нарисуем зависимость метрики $F_1$ от полноты."
   ]
  },
  {
   "cell_type": "code",
   "execution_count": null,
   "id": "fa773add",
   "metadata": {},
   "outputs": [],
   "source": [
    "plt.figure(figsize=(12, 8))\n",
    "plt.plot(recall, 2 * precision * recall / (precision + recall), \n",
    "         label='F1-метрика, test', color='blue')\n",
    "\n",
    "plt.plot(training_recall, \n",
    "         2 * training_precision * training_recall / (training_precision + training_recall), \n",
    "         label='F1-метрика, train', color='red')\n",
    "\n",
    "plt.xlabel('Полнота')\n",
    "plt.ylabel('F1 метрика')\n",
    "\n",
    "plt.legend()\n",
    "\n",
    "plt.show()"
   ]
  },
  {
   "cell_type": "markdown",
   "id": "eedbad80",
   "metadata": {},
   "source": [
    "Сравним точность **accuracy** и метрику $F_1$ обученного классификатора с качеством dummy классификатора."
   ]
  },
  {
   "cell_type": "markdown",
   "id": "c50b3b6d",
   "metadata": {},
   "source": [
    "`dummy` классификатор работает по следующему принципу:\n",
    "  - оценивается частота $\\hat{p}$ класса `1` на обучающей выборке (доля наблюдений класса `1`)\n",
    "  - каждому тестовому объекту случайно предскажем:\n",
    "    * метку `1` с вероятностью $\\hat{p}$,\n",
    "    * метку `0` с вероятностью $1 - \\hat{p}$."
   ]
  },
  {
   "cell_type": "code",
   "execution_count": null,
   "id": "88acbb50",
   "metadata": {},
   "outputs": [],
   "source": [
    "# создадим объекта класса DummyClassifier\n",
    "dummy_clf = DummyClassifier(random_state=22)\n",
    "# обучим наивный классификатор\n",
    "dummy_clf.fit(X_train, y_train);"
   ]
  },
  {
   "cell_type": "markdown",
   "id": "288c9e43",
   "metadata": {},
   "source": [
    "Сделаем прогноз меток"
   ]
  },
  {
   "cell_type": "code",
   "execution_count": null,
   "id": "6a5cae18",
   "metadata": {},
   "outputs": [],
   "source": [
    "rand_pred = dummy_clf.predict(X_test)"
   ]
  },
  {
   "cell_type": "markdown",
   "id": "4753de5a",
   "metadata": {},
   "source": [
    "Рассчитаем метрики наивного классификатора"
   ]
  },
  {
   "cell_type": "code",
   "execution_count": null,
   "id": "4d3d862a",
   "metadata": {},
   "outputs": [],
   "source": [
    "print(f'Точность решающего дерева\\t {np.round(accuracy_score(y_test, test_predictions),3)}')\n",
    "print(f'Точность dummy классификатора\\t {np.round(accuracy_score(y_test, random_predictions),3)}')\n",
    "\n",
    "print(f'F1-метрика решающего дерева\\t {np.round(f1_score(y_test, test_pred),2)}')\n",
    "print(f'F1-метрика dummy классификатора\\t {np.round(f1_score(y_test, random_predictions),3)}')"
   ]
  },
  {
   "cell_type": "markdown",
   "id": "0b43739f",
   "metadata": {},
   "source": [
    "Таблица сопряжённости для случайного классификатора"
   ]
  },
  {
   "cell_type": "code",
   "execution_count": null,
   "id": "64703377",
   "metadata": {},
   "outputs": [],
   "source": [
    "pd.DataFrame(confusion_matrix(y_test, rand_pred))"
   ]
  },
  {
   "cell_type": "markdown",
   "id": "aa696b22",
   "metadata": {},
   "source": [
    "Таблица сопряжённости для обученного классификатора"
   ]
  },
  {
   "cell_type": "code",
   "execution_count": null,
   "id": "7b1de646",
   "metadata": {},
   "outputs": [],
   "source": [
    "pd.DataFrame(confusion_matrix(y_test, test_pred))"
   ]
  },
  {
   "cell_type": "markdown",
   "id": "a5ec81a0",
   "metadata": {},
   "source": [
    "> # Задание\n",
    ">\n",
    "> Обучите модели МО для датасета MNIST. Посчитайте все метрики, рассмотренные в этой лекции. Сильно ли меняется подход при переходе к многоклассовой классификации?"
   ]
  }
 ],
 "metadata": {
  "kernelspec": {
   "display_name": "Python 3 (ipykernel)",
   "language": "python",
   "name": "python3"
  },
  "language_info": {
   "codemirror_mode": {
    "name": "ipython",
    "version": 3
   },
   "file_extension": ".py",
   "mimetype": "text/x-python",
   "name": "python",
   "nbconvert_exporter": "python",
   "pygments_lexer": "ipython3",
   "version": "3.9.12"
  }
 },
 "nbformat": 4,
 "nbformat_minor": 5
}
