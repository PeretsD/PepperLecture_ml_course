{
 "cells": [
  {
   "cell_type": "markdown",
   "metadata": {},
   "source": [
    "\n",
    "# Обучение без учителя. Кластеризация\n",
    "\n",
    "Интуитивная постановка задачи кластеризации довольно проста и представляет из себя наше желание сказать: \"Вот тут у меня насыпаны точки. Я вижу, что они сваливаются в какие-то кучки вместе. Было бы круто иметь возможность эти точки относить к кучкам и в случае появления новой точки на плоскости говорить, в какую кучку она падает.\" Из такой постановки видно, что пространства для фантазии получается много, и от этого возникает соответствующее множество алгоритмов решения этой задачи. Перечисленные алгоритмы ни в коем случае не описывают данное множество полностью, но являются примерами самых популярных методов решения задачи кластеризации.\n",
    "\n",
    "Картинка взята с сайта https://scikit-learn.org/stable/modules/clustering.html\n",
    "![Clustering_methods](img/clustering.png)\n",
    "\n",
    "---"
   ]
  },
  {
   "cell_type": "markdown",
   "metadata": {},
   "source": [
    "\n",
    "### K-means\n",
    "\n",
    "Алгоритм К-means один из самых популярных алгоритмов кластеризации и очень легко представляется в виде простого псевдокода:\n",
    "\n",
    "1. Выбрать количество кластеров, которое кажется оптимальным для данных.\n",
    "2. Сгенерировать случайным образом в пространство наших данных  точек (центроидов).\n",
    "3. Для каждой точки набора данных посчитать, к какому центроиду она ближе.\n",
    "4. Переместить каждый центроид в центр выборки, которую отнесли к этому центроиду.\n",
    "5. Повторять последние два шага фиксированное число раз, либо до тех пор пока центроиды не \"сойдутся\" (обычно это значит, что их смещение относительно предыдущего положения не превышает какого-то заранее заданного небольшого значения).\n",
    "\n",
    "В случае обычной евклидовой метрики для точек лежащих на плоскости, этот алгоритм очень просто расписывается аналитически и рисуется."
   ]
  },
  {
   "cell_type": "code",
   "execution_count": 1,
   "metadata": {},
   "outputs": [],
   "source": [
    "import numpy as np\n",
    "import pandas as pd\n",
    "\n",
    "import matplotlib.pyplot as plt\n",
    "import seaborn as sns\n",
    "\n",
    "from sklearn.datasets import make_blobs\n",
    "from sklearn import datasets\n",
    "from sklearn.manifold import TSNE\n",
    "from sklearn import metrics\n",
    "from sklearn.datasets import make_circles\n",
    "from sklearn.cluster import KMeans, AgglomerativeClustering, AffinityPropagation, SpectralClustering\n",
    "from sklearn.decomposition import PCA\n",
    "\n",
    "# функция, которая считает расстояния между парами точек из двух массивов\n",
    "from scipy.spatial.distance import cdist"
   ]
  },
  {
   "cell_type": "markdown",
   "metadata": {},
   "source": [
    "> # Задание\n",
    ">\n",
    ">При помощи функции `make_blobs` создайте набор точек из 500 примеров, 3 центра, размерность признакового пространства = 2, random_state = 42. Отобразите эти данные."
   ]
  },
  {
   "cell_type": "code",
   "execution_count": 2,
   "metadata": {},
   "outputs": [
    {
     "data": {
      "image/png": "[encoded data removed]",
      "text/plain": [
       "<Figure size 360x360 with 1 Axes>"
      ]
     },
     "metadata": {
      "needs_background": "light"
     },
     "output_type": "display_data"
    }
   ],
   "source": [
    "# Сгенерируем и визуализируем точки\n"
   ]
  },
  {
   "cell_type": "markdown",
   "metadata": {},
   "source": [
    "> # Задание\n",
    ">\n",
    "> Реализовать алгоритм K-means для 3-х итераций и сохранить историю, чтобы в дальнейшем визуализировать эволюцию работы алгоритма"
   ]
  },
  {
   "cell_type": "code",
   "execution_count": null,
   "metadata": {},
   "outputs": [],
   "source": [
    "# type your code here"
   ]
  },
  {
   "cell_type": "markdown",
   "metadata": {},
   "source": [
    "Также стоит заметить, что хоть мы и рассматривали **евклидово расстояние**, алгоритм будет сходиться и в случае любой другой метрики, поэтому для различных задач кластеризации в зависимости от данных можно экспериментировать не только с количеством шагов или критерием сходимости, но и с метрикой, по которой мы считаем расстояния между точками и центроидами кластеров.\n",
    "\n",
    "\n",
    "Другой особенностью этого алгоритма является то, что он чувствителен к исходному положению центроид кластеров в пространстве. В такой ситуации спасает несколько последовательных запусков алгоритма с последующим усреднением полученных кластеров.\n",
    "\n",
    "В отличие от задачи классификации или регресии, в случае кластеризации сложнее выбрать критерий, с помощью которого было бы просто представить задачу кластеризации как задачу оптимизации.\n",
    "В случае `k-Means` распространен вот такой критерий – сумма квадратов расстояний от точек до центроидов кластеров, к которым они относятся.\n",
    "\n",
    "$$ J(C) = \\sum_{k=1}^{K} \\sum_{i \\leq C_{k}} ||x_{i}-\\mu_{k}||^2 \\ \\to \\ \\min_{k} $$\n",
    "\n",
    "здесь $ C $ – множество кластеров мощности $ K $, $ \\mu_{k} $ – центроид кластера $ C_{k} $.\n",
    "\n",
    "\n",
    "Понятно, что здравый смысл в этом есть: мы хотим, чтобы точки располагались кучно возле центров своих кластеров. Но вот незадача: минимум такого функционала будет достигаться тогда, когда кластеров столько же, сколько и точек (то есть каждая точка – это кластер из одного элемента).\n",
    "Для решения этого вопроса (выбора числа кластеров) часто пользуются такой эвристикой: выбирают то число кластеров, начиная с которого описанный функционал $ J(C) $ падает \"уже не так быстро\". **Или более формально:**\n",
    "\n",
    "$$ D(k) = \\frac{|J(C_{k}-J(C_{k+1}|}{|J(C_{k}|} \\to \\min_{k} $$"
   ]
  },
  {
   "cell_type": "markdown",
   "metadata": {},
   "source": [
    "## Что-что?"
   ]
  },
  {
   "cell_type": "code",
   "execution_count": null,
   "metadata": {},
   "outputs": [],
   "source": [
    "from sklearn.cluster import KMeans\n",
    "\n",
    "inertia = []\n",
    "for k in range(1, 8):\n",
    "    kmeans = KMeans(n_clusters=k, random_state=1).fit(X)\n",
    "    inertia.append(np.sqrt(kmeans.inertia_))\n",
    "\n",
    "plt.figure(figsize=(10,6), tight_layout=True)\n",
    "plt.grid(True)\n",
    "plt.plot(range(1, 8), inertia, 'o-c', linewidth=2);\n",
    "plt.xlabel('$k$')\n",
    "plt.ylabel('$J(C_{k})$');"
   ]
  },
  {
   "cell_type": "code",
   "execution_count": null,
   "metadata": {},
   "outputs": [],
   "source": [
    "# Также для выделения оптимального набора параметров, можно воспользоватся библиотекой KElbowVisualizer\n",
    "from yellowbrick.cluster import KElbowVisualizer\n",
    "\n",
    "visualizer = KElbowVisualizer(kmeans, k=(1,7), metric = 'distortion', timings = False);\n",
    "visualizer.fit(X);\n",
    "visualizer.show();"
   ]
  },
  {
   "cell_type": "markdown",
   "metadata": {},
   "source": [
    "Видим, что  падает сильно при увеличении числа кластеров с $ 1 $ до $ 2 $ и с $ 2 $ до $ 3 $ и уже не так сильно – при изменении  с $ 3 $ до $ 4 $. Значит, в данной задаче оптимально задать **3** кластера.\n",
    "\n",
    "---"
   ]
  },
  {
   "cell_type": "markdown",
   "metadata": {},
   "source": [
    "### Все ли так просто?\n",
    "\n",
    "Само по себе решение задачи `K-means` `NP-трудное (NP-hard)`, и для размерности $ d $, числа кластеров $ k $ и числа точек $ n $ решается за $ O(n^{dk+1}) $. Для решения такой боли часто используются эвристики, например `MiniBatch K-means`, который для обучения использует не весь датасет целиком, а лишь маленькие его порции (batch) и обновляет центроиды используя среднее за всю историю обновлений центроида от всех относящихся к нему точек. Сравнение обычного `K-means` и его `MiniBatch` имплементации можно посмотреть в документации `scikit-learn`.\n",
    "\n",
    "\n",
    "Реализация алгоритма в `scikit-learn` обладает массой удобных плюшек, таких как возможность задать количество запусков через параметр `n_init`, что даст более устойчивые центроиды для кластеров в случае скошенных данных. К тому же эти запуски можно делать параллельно, не жертвуя временем вычисления.\n"
   ]
  },
  {
   "cell_type": "markdown",
   "metadata": {},
   "source": [
    "> # Задание\n",
    ">\n",
    "> Для нового набора данных `X_mnist_tsne`, полученного при помощи снижения размерности, определите наиболее оптимальное количество кластеров при работе алгоритма `K-Means`. Про алгоритмы снижения размерности мы поговорим в следующем занятии, сейчас просто рассматриваем как признаковое пространство, для которого необходимо реализовать кластеризацию."
   ]
  },
  {
   "cell_type": "code",
   "execution_count": null,
   "metadata": {},
   "outputs": [],
   "source": [
    "# загрузим данные по цифрам\n",
    "digits = datasets.load_digits()\n",
    "X_mnist = digits.data\n",
    "y_mnist = digits.target\n",
    "\n",
    "# Создадим объект TSNE\n",
    "tSNE_mnist = TSNE(random_state=17)\n",
    "\n",
    "# настройка модели\n",
    "X_mnist_tsne = tSNE_mnist.fit_transform(X_mnist)\n",
    "\n",
    "# визуализация данных\n",
    "plt.figure(figsize=(15,12))\n",
    "plt.scatter(X_mnist_tsne[:, 0], X_mnist_tsne[:, 1], c=y_mnist, \n",
    "            edgecolor='none', alpha=0.5, s=40,\n",
    "            cmap=plt.cm.get_cmap('nipy_spectral', 10))\n",
    "plt.colorbar()\n",
    "plt.title('MNIST. t-SNE');"
   ]
  },
  {
   "cell_type": "code",
   "execution_count": null,
   "metadata": {},
   "outputs": [],
   "source": [
    "# Оптимальное количество кластеров для MNIST\n",
    "# type your code here"
   ]
  }
 ],
 "metadata": {
  "kernelspec": {
   "display_name": "Python 3 (ipykernel)",
   "language": "python",
   "name": "python3"
  },
  "language_info": {
   "codemirror_mode": {
    "name": "ipython",
    "version": 3
   },
   "file_extension": ".py",
   "mimetype": "text/x-python",
   "name": "python",
   "nbconvert_exporter": "python",
   "pygments_lexer": "ipython3",
   "version": "3.9.12"
  }
 },
 "nbformat": 4,
 "nbformat_minor": 2
}
